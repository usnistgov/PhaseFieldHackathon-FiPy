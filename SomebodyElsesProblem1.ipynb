{
 "cells": [
  {
   "cell_type": "code",
   "execution_count": null,
   "metadata": {
    "collapsed": true
   },
   "outputs": [],
   "source": [
    "from fipy import Grid2D, CellVariable, ModularVariable, Variable, numerix\n",
    "from fipy import TransientTerm, DiffusionTerm, ImplicitSourceTerm\n",
    "dx = dy = 0.025\n",
    "nx = ny = 200\n",
    "mesh = Grid2D(dx=dx, dy=dy, nx=nx, ny=ny)\n",
    "x, y = mesh.cellCenters"
   ]
  },
  {
   "cell_type": "code",
   "execution_count": null,
   "metadata": {
    "collapsed": true
   },
   "outputs": [],
   "source": [
    "radius = 2.*dx\n",
    "C = (nx * dx / 2, ny * dy / 2)"
   ]
  },
  {
   "cell_type": "code",
   "execution_count": null,
   "metadata": {
    "collapsed": true
   },
   "outputs": [],
   "source": [
    "phi = CellVariable(name=r'$\\phi$', mesh=mesh, hasOld=True)\n",
    "phi.setValue(-1.)\n",
    "phi.setValue(1., where=((x - C[0])**2 + (y - C[1])**2) < radius**2)"
   ]
  },
  {
   "cell_type": "code",
   "execution_count": null,
   "metadata": {
    "collapsed": true
   },
   "outputs": [],
   "source": [
    "import fipy as fp\n",
    "\n",
    "\n",
    "\n",
    "\n",
    "g\n",
    "\n",
    "source_explicit = 2 * phi**3 - lamda * uu * (1 - phi**2) * (1 + 3 * phi**2)\n",
    "source_implicit = (1 - 3 * phi**2) + 4 * lamda * uu * phi * (1 - phi**2)\n",
    "\n",
    "heat_eqn = TransientTerm() == DiffusionTerm(D) + (phi - phi.old) / dt / 2.\n",
    "\n",
    "phase_eqn = TransientTerm(tau) == DiffusionTerm(Dphi) + source_explicit + ImplicitSourceTerm(source_implicit)\n"
   ]
  },
  {
   "cell_type": "code",
   "execution_count": null,
   "metadata": {
    "collapsed": true
   },
   "outputs": [],
   "source": [
    "theta = numerix.arctan2(phase.faceGrad[1], phase.faceGrad[0])\n",
    "\n",
    "W = W_0 * (1 + epsilon_m * numerix.cos(m * theta + theta_0))\n",
    "\n",
    "W_theta = - W_0 * m * epsilon_m * numerix.sin(m * theta + theta_0)\n",
    "\n",
    "I0 = Variable(value=((1,0), (0,1)))\n",
    "I1 = Variable(value=((0,-1), (1,0)))\n",
    "\n",
    "Dphi = W**2 * I0 + W * W_theta * I1\n"
   ]
  },
  {
   "cell_type": "code",
   "execution_count": null,
   "metadata": {
    "collapsed": false
   },
   "outputs": [],
   "source": [
    "%matplotlib inline\n",
    "import numpy as np\n",
    "import matplotlib.pyplot as plt\n",
    "\n",
    "# Define lambda, phi, and u\n",
    "l = 10/0.6267\n",
    "a = np.linspace(-1.1,1.1,102)\n",
    "b = np.linspace(-0.5,0.5,50)\n",
    "\n",
    "p = np.zeros(len(a)*len(b))\n",
    "u = np.zeros(len(a)*len(b))\n",
    "z = np.zeros(len(a)*len(b))\n",
    "\n",
    "n=0\n",
    "for j in np.nditer(b):\n",
    "    for i in np.nditer(a):\n",
    "        p[n] = i\n",
    "        u[n] = j\n",
    "        z[n] = -0.5*i**2 + 0.25*i**4 + l*j*i*(1-2*i**2/3+i**4/5)\n",
    "        n+=1\n",
    "\n",
    "# Configure plot\n",
    "plt.rcParams['figure.figsize'] = (8.0, 4.0)\n",
    "plt.axis('equal')\n",
    "plt.xlabel(r'$\\phi$',fontsize=14)\n",
    "plt.ylabel(r'$u$',fontsize=14)\n",
    "\n",
    "# Plot contours\n",
    "ncontours=128\n",
    "plt.tricontourf(p,u,z, ncontours, cmap=plt.cm.get_cmap('coolwarm'))\n"
   ]
  },
  {
   "cell_type": "code",
   "execution_count": null,
   "metadata": {
    "collapsed": true
   },
   "outputs": [],
   "source": []
  }
 ],
 "metadata": {
  "kernelspec": {
   "display_name": "Python 2",
   "language": "python",
   "name": "python2"
  },
  "language_info": {
   "codemirror_mode": {
    "name": "ipython",
    "version": 2
   },
   "file_extension": ".py",
   "mimetype": "text/x-python",
   "name": "python",
   "nbconvert_exporter": "python",
   "pygments_lexer": "ipython2",
   "version": "2.7.11+"
  }
 },
 "nbformat": 4,
 "nbformat_minor": 0
}
