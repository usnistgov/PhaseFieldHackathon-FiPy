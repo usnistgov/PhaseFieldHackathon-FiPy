{
 "cells": [
  {
   "cell_type": "code",
   "execution_count": 1,
   "metadata": {
    "collapsed": false
   },
   "outputs": [],
   "source": [
    "%matplotlib inline\n",
    "\n",
    "import fipy as fp\n",
    "import fipy.tools.numerix as numerix"
   ]
  },
  {
   "cell_type": "code",
   "execution_count": 2,
   "metadata": {
    "collapsed": true
   },
   "outputs": [],
   "source": [
    "nx = 200\n",
    "ny = 200\n",
    "dx = 0.25\n",
    "dy = 0.25\n",
    "mesh = fp.Grid2D(nx=nx, ny=ny, dx=dx, dy=dy)"
   ]
  },
  {
   "cell_type": "code",
   "execution_count": 3,
   "metadata": {
    "collapsed": false
   },
   "outputs": [],
   "source": [
    "mm = 4\n",
    "epsilon_m = 0.025\n",
    "theta_0 = 0.0\n",
    "tau_0 = 1.\n",
    "DD = 10.\n",
    "W_0 = 1.\n",
    "lamda = DD * tau_0 / 0.6267 / W_0**2\n",
    "delta = 0.05"
   ]
  },
  {
   "cell_type": "code",
   "execution_count": 4,
   "metadata": {
    "collapsed": false
   },
   "outputs": [],
   "source": [
    "phase = fp.CellVariable(mesh=mesh, hasOld=True)\n",
    "uu = fp.CellVariable(mesh=mesh, hasOld=True)\n",
    "dt = fp.Variable(0.01)\n",
    "uu.constrain(-delta, mesh.exteriorFaces)"
   ]
  },
  {
   "cell_type": "code",
   "execution_count": 5,
   "metadata": {
    "collapsed": true
   },
   "outputs": [],
   "source": [
    "def initialize():\n",
    "    phase[:] = -1.0\n",
    "    x, y = mesh.cellCenters\n",
    "    radius = 4.0\n",
    "    center = (nx * dx / 2., ny * dy / 2.)\n",
    "    mask = (x - center[0])**2 + (y - center[1])**2 < radius**2\n",
    "    phase.setValue(1., where=mask)\n",
    "    uu[:] = -delta\n",
    "initialize()"
   ]
  },
  {
   "cell_type": "code",
   "execution_count": 6,
   "metadata": {
    "collapsed": false
   },
   "outputs": [],
   "source": [
    "def make_tau(phase_):\n",
    "    theta_cell = numerix.arctan2(phase_.grad[1], phase_.grad[0])\n",
    "    a_cell = 1 + epsilon_m * numerix.cos(mm * theta_cell - theta_0)\n",
    "    return tau_0 * a_cell**2\n",
    "\n",
    "tau = make_tau(phase)\n",
    "tau_old = make_tau(phase.old)"
   ]
  },
  {
   "cell_type": "code",
   "execution_count": 7,
   "metadata": {
    "collapsed": false
   },
   "outputs": [],
   "source": [
    "#source_explicit = 2 * phase**3 - lamda * uu * (1 - phase**2) * (1 + 3 * phase**2)\n",
    "#source_implicit = (1 - 3 * phase**2) + 4 * lamda * uu * phase * (1 - phase**2)\n",
    "source = (phase - lamda * uu * (1 - phase**2)) * (1 - phase**2)\n",
    "#source_explicit = phase * (1 - phase**2)\n",
    "#source_implicit"
   ]
  },
  {
   "cell_type": "code",
   "execution_count": 8,
   "metadata": {
    "collapsed": false
   },
   "outputs": [],
   "source": [
    "theta = numerix.arctan2(phase.faceGrad[1], phase.faceGrad[0])\n",
    "W = W_0 * (1 + epsilon_m * numerix.cos(mm * theta - theta_0))\n",
    "\n",
    "W_theta = - W_0 * mm * epsilon_m * numerix.sin(mm * theta - theta_0)\n",
    "\n",
    "I0 = fp.Variable(value=((1,0), (0,1)))\n",
    "I1 = fp.Variable(value=((0,-1), (1,0)))\n",
    "\n",
    "Dphase = W**2 * I0 + W * W_theta * I1"
   ]
  },
  {
   "cell_type": "code",
   "execution_count": 9,
   "metadata": {
    "collapsed": false
   },
   "outputs": [],
   "source": [
    "heat_eqn = fp.TransientTerm() == fp.DiffusionTerm(DD) + (phase - phase.old) / dt / 2.\n",
    "\n",
    "phase_eqn = fp.TransientTerm(tau) == fp.DiffusionTerm(Dphase) + source\n",
    "\n",
    "# + \\\n",
    " #           fp.ImplicitSourceTerm(source_implicit) #- fp.ImplicitSourceTerm(tau_old / dt) + tau * phase / dt"
   ]
  },
  {
   "cell_type": "code",
   "execution_count": 10,
   "metadata": {
    "collapsed": false
   },
   "outputs": [
    {
     "name": "stdout",
     "output_type": "stream",
     "text": [
      "1.050625 0.950625\n"
     ]
    }
   ],
   "source": [
    "print max(tau), min(tau)"
   ]
  },
  {
   "cell_type": "code",
   "execution_count": 11,
   "metadata": {
    "collapsed": false
   },
   "outputs": [
    {
     "data": {
      "image/png": "[encoded data removed]"
     },
     "metadata": {},
     "output_type": "display_data"
    },
    {
     "data": {
      "image/png": "[encoded data removed]",
      "text/plain": [
       "<matplotlib.figure.Figure at 0x7fde024c0910>"
      ]
     },
     "metadata": {},
     "output_type": "display_data"
    },
    {
     "data": {
      "image/png": "[encoded data removed]",
      "text/plain": [
       "<matplotlib.figure.Figure at 0x7fde015d3cd0>"
      ]
     },
     "metadata": {},
     "output_type": "display_data"
    }
   ],
   "source": [
    "phase_viewer = fp.Viewer(phase)\n",
    "uu_viewer = fp.Viewer(uu)\n",
    "phase_viewer.plot()\n",
    "uu_viewer.plot()"
   ]
  },
  {
   "cell_type": "code",
   "execution_count": 12,
   "metadata": {
    "collapsed": false
   },
   "outputs": [
    {
     "name": "stdout",
     "output_type": "stream",
     "text": [
      "\n",
      "dt 0.01\n",
      "current_step 0\n",
      "res_heat 0.0 3.09022299806e-05\n",
      "res_phase 41.8008056236 1.0111710577e-05\n",
      "\n",
      "dt 0.008\n",
      "current_step 0\n",
      "res_heat 10.2428446264 2.17102830237e-05\n",
      "res_phase 41.8008056236 5.79852916574e-06\n",
      "\n",
      "dt 0.0088\n",
      "current_step 1\n",
      "res_heat 12.5595580394 4.07909492024e-05\n",
      "res_phase 26.075520577 9.32907318522e-06\n",
      "\n",
      "dt 0.00968\n",
      "current_step 2\n",
      "res_heat 8.83341040347 6.94061906573e-05\n",
      "res_phase 16.7833750481 2.36573593583e-05\n",
      "\n",
      "dt 0.010648\n",
      "current_step 3\n",
      "res_heat 6.03221638441 4.63965850817e-05\n",
      "res_phase 11.3812463283 1.91357051117e-05\n",
      "\n",
      "dt 0.0117128\n",
      "current_step 4\n",
      "res_heat 4.32567284114 2.36386515262e-05\n",
      "res_phase 8.2122248479 1.07535145203e-05\n",
      "\n",
      "dt 0.01288408\n",
      "current_step 5\n",
      "res_heat 3.28224498323 1.26322862759e-05\n",
      "res_phase 6.26572285462 5.65338425253e-06\n",
      "\n",
      "dt 0.014172488\n",
      "current_step 6\n",
      "res_heat 2.60785552511 9.41908361202e-06\n",
      "res_phase 4.99493883572 3.68449814681e-06\n",
      "\n",
      "dt 0.0155897368\n",
      "current_step 7\n",
      "res_heat 2.14261490677 9.15681613997e-06\n",
      "res_phase 4.11183794904 3.0030610786e-06\n",
      "\n",
      "dt 0.01714871048\n",
      "current_step 8\n",
      "res_heat 1.80212449735 9.96634907188e-06\n",
      "res_phase 3.46295654986 2.64313175916e-06\n",
      "\n",
      "dt 0.018863581528\n",
      "current_step 9\n",
      "res_heat 1.5407433258 1.14099905692e-05\n",
      "res_phase 2.9640764992 2.51439359451e-06\n",
      "\n",
      "dt 0.0207499396808\n",
      "current_step 10\n",
      "res_heat 1.3326539615 1.32758889557e-05\n",
      "res_phase 2.56701325801 2.70678139709e-06\n",
      "\n",
      "dt 0.0228249336489\n",
      "current_step 11\n",
      "res_heat 1.16243148145 1.53719897231e-05\n",
      "res_phase 2.24274880748 3.19262286327e-06\n",
      "\n",
      "dt 0.0251074270138\n",
      "current_step 12\n",
      "res_heat 1.0203310932 1.74924200928e-05\n",
      "res_phase 1.97281177614 3.85312064492e-06\n",
      "\n",
      "dt 0.0276181697151\n",
      "current_step 13\n",
      "res_heat 0.899886119907 1.93746325983e-05\n",
      "res_phase 1.74480870722 4.56904029033e-06\n",
      "\n",
      "dt 0.0303799866867\n",
      "current_step 14\n",
      "res_heat 0.796632200636 2.0659562995e-05\n",
      "res_phase 1.55003949456 5.21373711588e-06\n",
      "\n",
      "dt 0.0334179853553\n",
      "current_step 15\n",
      "res_heat 0.707383741847 2.09037338441e-05\n",
      "res_phase 1.3821669091 5.60093050641e-06\n",
      "\n",
      "dt 0.0367597838909\n",
      "current_step 16\n",
      "res_heat 0.629790103269 1.98115096039e-05\n",
      "res_phase 1.23643234578 5.45589932886e-06\n",
      "\n",
      "dt 0.0404357622799\n",
      "current_step 17\n",
      "res_heat 0.562045357743 1.84316721476e-05\n",
      "res_phase 1.10916679855 4.62839326433e-06\n",
      "\n",
      "dt 0.0444793385079\n",
      "current_step 18\n",
      "res_heat 0.502694282982 2.25360936911e-05\n",
      "res_phase 0.997470839098 5.06968302945e-06\n",
      "\n",
      "dt 0.0489272723587\n",
      "current_step 19\n",
      "res_heat 0.450507465521 3.97252963619e-05\n",
      "res_phase 0.898998335838 1.17496023804e-05\n",
      "\n",
      "dt 0.0538199995946\n",
      "current_step 20\n",
      "res_heat 0.40440964153 7.22559894026e-05\n",
      "res_phase 0.811808942664 2.61045230497e-05\n",
      "\n",
      "dt 0.0592019995541\n",
      "current_step 21\n",
      "res_heat 0.363447966425 0.000122877329321\n",
      "res_phase 0.734269490285 5.07859522424e-05\n",
      "\n",
      "dt 0.0651221995095\n",
      "current_step 22\n",
      "res_heat 0.326786613057 0.000196563946953\n",
      "res_phase 0.664991584667 9.06090722371e-05\n",
      "\n",
      "dt 0.0716344194604\n",
      "current_step 23\n",
      "res_heat 0.293714251337 0.000300045039127\n",
      "res_phase 0.602795665781 0.000152530441742\n",
      "\n",
      "dt 0.0787978614065\n",
      "current_step 24\n",
      "res_heat 0.263652962888 0.000441786270513\n",
      "res_phase 0.546692744287 0.000246229731582\n",
      "\n",
      "dt 0.0866776475471\n",
      "current_step 25\n",
      "res_heat 0.236160833465 0.000632287649303\n",
      "res_phase 0.495875536383 0.000385039354985\n",
      "\n",
      "dt 0.0953454123018\n",
      "current_step 26\n",
      "res_heat 0.210924757755 0.000884666407132\n",
      "res_phase 0.44971169226 0.000587316653767\n",
      "\n",
      "dt 0.104879953532\n",
      "current_step 27\n",
      "res_heat 0.187743703175 0.00121562221923\n",
      "res_phase 0.407733573455 0.000878499801719\n",
      "\n",
      "dt 0.115367948885\n",
      "current_step 28\n",
      "res_heat 0.166505118476 0.00164694504976\n",
      "res_phase 0.369621329467 0.00129423434313\n",
      "\n",
      "dt 0.126904743774\n",
      "current_step 29\n",
      "res_heat 0.147158241141 0.00220776305866\n",
      "res_phase 0.335178257647 0.0018851450197\n",
      "\n",
      "dt 0.139595218151\n",
      "current_step 30\n",
      "res_heat 0.129688017213 0.00293773915525\n",
      "res_phase 0.304298959166 0.00272406268645\n",
      "\n",
      "dt 0.153554739966\n",
      "current_step 31\n",
      "res_heat 0.114092551535 0.00389138857555\n",
      "res_phase 0.27693124821 0.00391677867268\n",
      "\n",
      "dt 0.168910213963\n",
      "current_step 32\n",
      "res_heat 0.100365776069 0.00514356441673\n",
      "res_phase 0.253032291365 0.00561762229812\n",
      "\n",
      "dt 0.185801235359\n",
      "current_step 33\n",
      "res_heat 0.0884856652491 0.00679587287773\n",
      "res_phase 0.23251889511 0.00805118471161\n",
      "\n",
      "dt 0.204381358895\n",
      "current_step 34\n",
      "res_heat 0.0784071879666 0.00898322049921\n",
      "res_phase 0.215212520239 0.0115410186925\n",
      "\n",
      "dt 0.163505087116\n",
      "current_step 34\n",
      "res_heat 0.0700586374345 0.00390642664017\n",
      "res_phase 0.19354726733 0.00416884470217\n",
      "\n",
      "dt 0.179855595828\n",
      "current_step 35\n",
      "res_heat 0.0663903351362 0.00538767289385\n",
      "res_phase 0.18502516022 0.00623520272414\n",
      "\n",
      "dt 0.19784115541\n",
      "current_step 36\n",
      "res_heat 0.0618332771408 0.00734665065239\n",
      "res_phase 0.178027752724 0.00921506527713\n",
      "\n",
      "dt 0.158272924328\n",
      "current_step 36\n",
      "res_heat 0.057649345812 0.00332473218318\n",
      "res_phase 0.161905324498 0.00347112064178\n",
      "\n",
      "dt 0.174100216761\n",
      "current_step 37\n",
      "res_heat 0.0555870925418 0.00462592106507\n",
      "res_phase 0.159535012793 0.0052314194263\n",
      "\n",
      "dt 0.191510238437\n",
      "current_step 38\n",
      "res_heat 0.0530761480005 0.00635803409112\n",
      "res_phase 0.157632864767 0.00778554225174\n",
      "\n",
      "dt 0.15320819075\n",
      "current_step 38\n",
      "res_heat 0.0507582097862 0.00293730921458\n",
      "res_phase 0.143972809038 0.0029971653488\n",
      "\n",
      "dt 0.168529009825\n",
      "current_step 39\n",
      "res_heat 0.0493794045649 0.0040849122784\n",
      "res_phase 0.144723166921 0.00451060083344\n"
     ]
    }
   ],
   "source": [
    "initialize()\n",
    "#dt.setValue(0.01)\n",
    "total_steps = 40\n",
    "sweeps = 5\n",
    "tolerance = 1e-1\n",
    "from fipy.solvers.pysparse import LinearLUSolver as Solver\n",
    "solver_heat = Solver()\n",
    "solver_phase = Solver()\n",
    "\n",
    "current_step = 0\n",
    "while current_step < total_steps:\n",
    "    uu.updateOld()\n",
    "    phase.updateOld()\n",
    "\n",
    "    res_heat0 = heat_eqn.sweep(uu, dt=dt.value, solver=solver_heat)\n",
    "    res_phase0 = phase_eqn.sweep(phase, dt=dt.value, solver=solver_phase)\n",
    "\n",
    "    for sweep in range(sweeps):\n",
    "        res_heat = heat_eqn.sweep(uu, dt=dt.value, solver=solver_heat)\n",
    "        res_phase = phase_eqn.sweep(phase, dt=dt.value, solver=solver_phase)\n",
    "\n",
    "    \n",
    "    print\n",
    "    print 'dt',dt  \n",
    "    print 'current_step',current_step\n",
    "    print 'res_heat',res_heat0, res_heat\n",
    "    print 'res_phase',res_phase0, res_phase\n",
    "    if (res_heat < res_heat0 * tolerance) and (res_phase < res_phase0 * tolerance):\n",
    "        current_step += 1\n",
    "        dt.setValue(dt.value * 1.1)\n",
    "    else:\n",
    "        dt.setValue(dt.value * 0.8)\n",
    "        uu[:] == uu.old\n",
    "        phase[:] = phase.old\n",
    "\n"
   ]
  },
  {
   "cell_type": "code",
   "execution_count": 13,
   "metadata": {
    "collapsed": false
   },
   "outputs": [
    {
     "data": {
      "image/png": "[encoded data removed]"
     },
     "metadata": {},
     "output_type": "display_data"
    },
    {
     "data": {
      "text/plain": [
       "<matplotlib.figure.Figure at 0x7fde015d3410>"
      ]
     },
     "metadata": {},
     "output_type": "display_data"
    }
   ],
   "source": [
    "phase_viewer.plot()"
   ]
  },
  {
   "cell_type": "code",
   "execution_count": 54,
   "metadata": {
    "collapsed": false
   },
   "outputs": [
    {
     "data": {
      "text/plain": [
       "0.99373069742389353"
      ]
     },
     "execution_count": 54,
     "metadata": {},
     "output_type": "execute_result"
    }
   ],
   "source": [
    "max(phase)"
   ]
  },
  {
   "cell_type": "code",
   "execution_count": null,
   "metadata": {
    "collapsed": true
   },
   "outputs": [],
   "source": [
    "from fipy.tools impor"
   ]
  },
  {
   "cell_type": "code",
   "execution_count": null,
   "metadata": {
    "collapsed": true
   },
   "outputs": [],
   "source": []
  }
 ],
 "metadata": {
  "kernelspec": {
   "display_name": "Python 2",
   "language": "python",
   "name": "python2"
  },
  "language_info": {
   "codemirror_mode": {
    "name": "ipython",
    "version": 2
   },
   "file_extension": ".py",
   "mimetype": "text/x-python",
   "name": "python",
   "nbconvert_exporter": "python",
   "pygments_lexer": "ipython2",
   "version": "2.7.11"
  }
 },
 "nbformat": 4,
 "nbformat_minor": 0
}
