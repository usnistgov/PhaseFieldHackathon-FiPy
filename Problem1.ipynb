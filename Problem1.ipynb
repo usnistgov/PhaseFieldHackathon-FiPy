{
 "cells": [
  {
   "cell_type": "code",
   "execution_count": 395,
   "metadata": {
    "collapsed": false
   },
   "outputs": [],
   "source": [
    "%matplotlib inline\n",
    "\n",
    "import fipy as fp\n",
    "import fipy.tools.numerix as numerix"
   ]
  },
  {
   "cell_type": "code",
   "execution_count": 411,
   "metadata": {
    "collapsed": true
   },
   "outputs": [],
   "source": [
    "nx = 200\n",
    "ny = 200\n",
    "dx = 0.1\n",
    "dy = 0.1\n",
    "mesh = fp.Grid2D(nx=nx, ny=ny, dx=dx, dy=dy)"
   ]
  },
  {
   "cell_type": "code",
   "execution_count": 412,
   "metadata": {
    "collapsed": false
   },
   "outputs": [],
   "source": [
    "mm = 4\n",
    "epsilon_m = 0.025\n",
    "theta_0 = 0.0\n",
    "tau_0 = 1.\n",
    "DD = 10.\n",
    "W_0 = 1.\n",
    "lamda = DD * tau_0 / 0.6267 / W_0**2\n",
    "delta = 0.05"
   ]
  },
  {
   "cell_type": "code",
   "execution_count": 413,
   "metadata": {
    "collapsed": false
   },
   "outputs": [],
   "source": [
    "phase = fp.CellVariable(mesh=mesh, hasOld=True)\n",
    "uu = fp.CellVariable(mesh=mesh, hasOld=True)\n",
    "uu.constrain(-delta, mesh.exteriorFaces)\n",
    "dt = fp.Variable(1.0)"
   ]
  },
  {
   "cell_type": "code",
   "execution_count": 414,
   "metadata": {
    "collapsed": true
   },
   "outputs": [],
   "source": [
    "def initialize():\n",
    "    phase[:] = -1.0\n",
    "    x, y = mesh.cellCenters\n",
    "    radius = 2.0\n",
    "    center = (nx * dx / 2., ny * dy / 2.)\n",
    "    mask = (x - center[0])**2 + (y - center[1])**2 < radius**2\n",
    "    phase.setValue(1., where=mask)\n",
    "    uu[:] = -delta\n",
    "    dt = fp.Variable(0.1)\n",
    "initialize()"
   ]
  },
  {
   "cell_type": "code",
   "execution_count": 415,
   "metadata": {
    "collapsed": false
   },
   "outputs": [],
   "source": [
    "def make_tau(phase_):\n",
    "    theta_cell = numerix.arctan2(phase_.grad[1], phase_.grad[0])\n",
    "    a_cell = 1 + epsilon_m * numerix.cos(mm * theta_cell - theta_0)\n",
    "    return tau_0 * a_cell**2\n",
    "\n",
    "tau = make_tau(phase)\n",
    "tau_old = make_tau(phase.old)"
   ]
  },
  {
   "cell_type": "code",
   "execution_count": 416,
   "metadata": {
    "collapsed": false
   },
   "outputs": [],
   "source": [
    "# source_explicit = 2 * phase**3 - lamda * uu * (1 - phase**2) * (1 + 3 * phase**2)\n",
    "# source_implicit = (1 - 3 * phase**2) + 4 * lamda * uu * phase * (1 - phase**2)\n",
    "source = (phase - lamda * uu * (1 - phase**2)) * (1 - phase**2)"
   ]
  },
  {
   "cell_type": "code",
   "execution_count": 417,
   "metadata": {
    "collapsed": false
   },
   "outputs": [],
   "source": [
    "theta = numerix.arctan2(phase.faceGrad[1], phase.faceGrad[0])\n",
    "W = W_0 * (1 + epsilon_m * numerix.cos(mm * theta - theta_0))\n",
    "\n",
    "W_theta = - W_0 * mm * epsilon_m * numerix.sin(mm * theta - theta_0)\n",
    "\n",
    "I0 = fp.Variable(value=((1,0), (0,1)))\n",
    "I1 = fp.Variable(value=((0,-1), (1,0)))\n",
    "\n",
    "Dphase = W**2 * I0 + W * W_theta * I1"
   ]
  },
  {
   "cell_type": "code",
   "execution_count": 418,
   "metadata": {
    "collapsed": false
   },
   "outputs": [],
   "source": [
    "heat_eqn = fp.TransientTerm() == fp.DiffusionTerm(DD) + (phase - phase.old) / dt / 2.\n",
    "\n",
    "phase_eqn = fp.TransientTerm(tau) == fp.DiffusionTerm(Dphase) + source #source_explicit + \\\n",
    "#            fp.ImplicitSourceTerm(source_implicit) #+ fp.ImplicitSourceTerm((tau - tau_old) / dt)"
   ]
  },
  {
   "cell_type": "code",
   "execution_count": 419,
   "metadata": {
    "collapsed": false
   },
   "outputs": [
    {
     "name": "stdout",
     "output_type": "stream",
     "text": [
      "1.050625 0.950625\n"
     ]
    }
   ],
   "source": [
    "print max(tau), min(tau)"
   ]
  },
  {
   "cell_type": "code",
   "execution_count": 420,
   "metadata": {
    "collapsed": false
   },
   "outputs": [
    {
     "data": {
      "image/png": "[encoded data removed]"
     },
     "metadata": {},
     "output_type": "display_data"
    },
    {
     "data": {
      "image/png": "[encoded data removed]",
      "text/plain": [
       "<matplotlib.figure.Figure at 0x7f3dfb5cf290>"
      ]
     },
     "metadata": {},
     "output_type": "display_data"
    },
    {
     "data": {
      "image/png": "[encoded data removed]",
      "text/plain": [
       "<matplotlib.figure.Figure at 0x7f3dfb2f3910>"
      ]
     },
     "metadata": {},
     "output_type": "display_data"
    }
   ],
   "source": [
    "phase_viewer = fp.Viewer(phase)\n",
    "uu_viewer = fp.Viewer(uu)\n",
    "phase_viewer.plot()\n",
    "uu_viewer.plot()"
   ]
  },
  {
   "cell_type": "code",
   "execution_count": 421,
   "metadata": {
    "collapsed": false
   },
   "outputs": [
    {
     "name": "stdout",
     "output_type": "stream",
     "text": [
      "[ 1.050625  1.050625  1.050625 ...,  1.050625  1.050625  1.050625]\n"
     ]
    }
   ],
   "source": [
    "print tau_old"
   ]
  },
  {
   "cell_type": "code",
   "execution_count": 422,
   "metadata": {
    "collapsed": false
   },
   "outputs": [
    {
     "name": "stdout",
     "output_type": "stream",
     "text": [
      "1.0\n"
     ]
    }
   ],
   "source": [
    "print dt\n"
   ]
  },
  {
   "cell_type": "code",
   "execution_count": 423,
   "metadata": {
    "collapsed": false
   },
   "outputs": [
    {
     "name": "stdout",
     "output_type": "stream",
     "text": [
      "\n",
      "dt 0.01\n",
      "current_step 0\n",
      "res_heat 5.12246744012e-14 0.000193600507553\n",
      "res_phase 46.4504796618 0.000340346258822\n",
      "\n",
      "dt 0.008\n",
      "current_step 0\n",
      "res_heat 4.73847766591 0.000182303426981\n",
      "res_phase 46.4504796618 0.000257398344962\n",
      "\n",
      "dt 0.0088\n",
      "current_step 1\n",
      "res_heat 5.76736128476 0.000154897875628\n",
      "res_phase 11.7290173176 0.000267805568792\n",
      "\n",
      "dt 0.00968\n",
      "current_step 2\n",
      "res_heat 2.49022801312 5.3431779284e-05\n",
      "res_phase 4.7697781259 7.4085208658e-05\n",
      "\n",
      "dt 0.010648\n",
      "current_step 3\n",
      "res_heat 1.51964644457 2.28661156707e-05\n",
      "res_phase 2.91008809545 2.68730086596e-05\n",
      "\n",
      "dt 0.0117128\n",
      "current_step 4\n",
      "res_heat 1.09960984469 1.25311217348e-05\n",
      "res_phase 2.10871421742 1.52712492916e-05\n",
      "\n",
      "dt 0.01288408\n",
      "current_step 5\n",
      "res_heat 0.857458182505 6.791155319e-06\n",
      "res_phase 1.64688293207 9.21308928549e-06\n",
      "\n",
      "dt 0.014172488\n",
      "current_step 6\n",
      "res_heat 0.696379551584 3.95901141629e-06\n",
      "res_phase 1.3397403319 4.93913613555e-06\n",
      "\n",
      "dt 0.0155897368\n",
      "current_step 7\n",
      "res_heat 0.580290959008 3.5346127151e-06\n",
      "res_phase 1.11811847513 2.74118307185e-06\n",
      "\n",
      "dt 0.01714871048\n",
      "current_step 8\n",
      "res_heat 0.492385121792 4.25459026792e-06\n",
      "res_phase 0.949564008621 2.48901469886e-06\n",
      "\n",
      "dt 0.018863581528\n",
      "current_step 9\n",
      "res_heat 0.423615389478 5.38508389063e-06\n",
      "res_phase 0.816612757798 3.02863123164e-06\n",
      "\n",
      "dt 0.0207499396808\n",
      "current_step 10\n",
      "res_heat 0.368532983019 6.82534515667e-06\n",
      "res_phase 0.708946005291 3.69953476858e-06\n",
      "\n",
      "dt 0.0228249336489\n",
      "current_step 11\n",
      "res_heat 0.323548371031 8.60416420317e-06\n",
      "res_phase 0.620029313721 4.38633046764e-06\n",
      "\n",
      "dt 0.0251074270138\n",
      "current_step 12\n",
      "res_heat 0.286140816771 1.07667126992e-05\n",
      "res_phase 0.545489047543 5.05321711622e-06\n",
      "\n",
      "dt 0.0276181697151\n",
      "current_step 13\n",
      "res_heat 0.25447271563 1.33646675139e-05\n",
      "res_phase 0.482254550315 5.69653206955e-06\n",
      "\n",
      "dt 0.0303799866867\n",
      "current_step 14\n",
      "res_heat 0.227183894195 1.64548242867e-05\n",
      "res_phase 0.428074452786 6.38345950948e-06\n",
      "\n",
      "dt 0.0334179853553\n",
      "current_step 15\n",
      "res_heat 0.203268738664 2.00966425403e-05\n",
      "res_phase 0.381233743568 7.27890681309e-06\n",
      "\n",
      "dt 0.0367597838909\n",
      "current_step 16\n",
      "res_heat 0.181994166251 2.43473842729e-05\n",
      "res_phase 0.340387478384 8.62122224703e-06\n",
      "\n",
      "dt 0.0404357622799\n",
      "current_step 17\n",
      "res_heat 0.16283959128 2.92527445527e-05\n",
      "res_phase 0.304464448459 1.06400740407e-05\n",
      "\n",
      "dt 0.0444793385079\n",
      "current_step 18\n",
      "res_heat 0.145449033117 3.4831393586e-05\n",
      "res_phase 0.272610497158 1.34854689557e-05\n",
      "\n",
      "dt 0.0489272723587\n",
      "current_step 19\n",
      "res_heat 0.129589625116 4.10525933302e-05\n",
      "res_phase 0.244150815269 1.72259773125e-05\n",
      "\n",
      "dt 0.0538199995946\n",
      "current_step 20\n",
      "res_heat 0.11511403707 4.78040491787e-05\n",
      "res_phase 0.218559034607 2.1875459376e-05\n",
      "\n",
      "dt 0.0592019995541\n",
      "current_step 21\n",
      "res_heat 0.101927208793 5.48409144137e-05\n",
      "res_phase 0.19542838958 2.73862938892e-05\n",
      "\n",
      "dt 0.0651221995095\n",
      "current_step 22\n",
      "res_heat 0.0899594001246 6.16984952453e-05\n",
      "res_phase 0.174445025302 3.3580516828e-05\n",
      "\n",
      "dt 0.0716344194604\n",
      "current_step 23\n",
      "res_heat 0.0791474036924 6.75451530975e-05\n",
      "res_phase 0.155365200882 3.99971945179e-05\n",
      "\n",
      "dt 0.0787978614065\n",
      "current_step 24\n",
      "res_heat 0.0694243450595 7.09530452923e-05\n",
      "res_phase 0.137997689607 4.56179101693e-05\n",
      "\n",
      "dt 0.0866776475471\n",
      "current_step 25\n",
      "res_heat 0.0607168195838 6.95854366698e-05\n",
      "res_phase 0.122191566195 4.8417027736e-05\n",
      "\n",
      "dt 0.0953454123018\n",
      "current_step 26\n",
      "res_heat 0.0529470022489 5.99322828198e-05\n",
      "res_phase 0.10782873966 4.47262975153e-05\n",
      "\n",
      "dt 0.104879953532\n",
      "current_step 27\n",
      "res_heat 0.046037112651 3.87097900066e-05\n",
      "res_phase 0.094820304256 2.9279574633e-05\n",
      "\n",
      "dt 0.115367948885\n",
      "current_step 28\n",
      "res_heat 0.0399140763351 3.67529490985e-05\n",
      "res_phase 0.0831058842852 2.81132384214e-05\n",
      "\n",
      "dt 0.126904743774\n",
      "current_step 29\n",
      "res_heat 0.0345130496808 0.000117049254899\n",
      "res_phase 0.072655303957 0.000111601188654\n",
      "\n",
      "dt 0.139595218151\n",
      "current_step 30\n",
      "res_heat 0.0297793315484 0.000262912653055\n",
      "res_phase 0.06347165704 0.000274993692863\n",
      "\n",
      "dt 0.153554739966\n",
      "current_step 31\n",
      "res_heat 0.0256688439463 0.000494846895443\n",
      "res_phase 0.0555935075366 0.000560770103426\n",
      "\n",
      "dt 0.168910213963\n",
      "current_step 32\n",
      "res_heat 0.0221477130458 0.000847838721267\n",
      "res_phase 0.0490907253281 0.00103721043922\n",
      "\n",
      "dt 0.185801235359\n",
      "current_step 33\n",
      "res_heat 0.0191914746755 0.00136797750605\n",
      "res_phase 0.0440437202681 0.00180292590341\n",
      "\n",
      "dt 0.204381358895\n",
      "current_step 34\n",
      "res_heat 0.0167840439901 0.00211275797648\n",
      "res_phase 0.0404950191552 0.00299498299209\n",
      "\n",
      "dt 0.163505087116\n",
      "current_step 34\n",
      "res_heat 0.0149158783671 0.000935943292427\n",
      "res_phase 0.0389788855341 0.00112513991147\n",
      "\n",
      "dt 0.179855595828\n",
      "current_step 35\n",
      "res_heat 0.0147209857933 0.00150567681166\n",
      "res_phase 0.0372449850797 0.00194888297134\n",
      "\n",
      "dt 0.143884476662\n",
      "current_step 35\n",
      "res_heat 0.013833799244 0.000689835037009\n",
      "res_phase 0.0358326657936 0.000755506653038\n",
      "\n",
      "dt 0.158272924328\n",
      "current_step 36\n",
      "res_heat 0.0137642341123 0.00108248430594\n",
      "res_phase 0.0352307527352 0.00127727577612\n",
      "\n",
      "dt 0.174100216761\n",
      "current_step 37\n",
      "res_heat 0.0132069410653 0.00161172503333\n",
      "res_phase 0.0352521004042 0.00204585702292\n",
      "\n",
      "dt 0.139280173409\n",
      "current_step 37\n",
      "res_heat 0.0126702728187 0.00075143918188\n",
      "res_phase 0.0332855373041 0.000806812676317\n",
      "\n",
      "dt 0.15320819075\n",
      "current_step 38\n",
      "res_heat 0.012622857581 0.00113078923375\n",
      "res_phase 0.0339767322212 0.00130739358128\n",
      "\n",
      "dt 0.168529009825\n",
      "current_step 39\n",
      "res_heat 0.0123583181734 0.00164122670969\n",
      "res_phase 0.0349170743216 0.00204069741549\n",
      "\n",
      "dt 0.13482320786\n",
      "current_step 39\n",
      "res_heat 0.0121382372423 0.000774292211744\n",
      "res_phase 0.032580666907 0.000813861135162\n"
     ]
    }
   ],
   "source": [
    "initialize()\n",
    "dt.setValue(0.01)\n",
    "total_steps = 40\n",
    "sweeps = 5\n",
    "tolerance = 1e-1\n",
    "from fipy.solvers.pysparse import LinearLUSolver as Solver\n",
    "solver_heat = Solver()\n",
    "solver_phase = Solver()\n",
    "\n",
    "current_step = 0\n",
    "while current_step < total_steps:\n",
    "    uu.updateOld()\n",
    "    phase.updateOld()\n",
    "\n",
    "    res_heat0 = heat_eqn.sweep(uu, dt=dt.value, solver=solver_heat)\n",
    "    res_phase0 = phase_eqn.sweep(phase, dt=dt.value, solver=solver_phase)\n",
    "\n",
    "    for sweep in range(sweeps):\n",
    "        res_heat = heat_eqn.sweep(uu, dt=dt.value, solver=solver_heat)\n",
    "        res_phase = phase_eqn.sweep(phase, dt=dt.value, solver=solver_phase)\n",
    "\n",
    "    \n",
    "    print\n",
    "    print 'dt',dt.value    \n",
    "    print 'current_step',current_step\n",
    "    print 'res_heat',res_heat0, res_heat\n",
    "    print 'res_phase',res_phase0, res_phase\n",
    "    if (res_heat < res_heat0 * tolerance) and (res_phase < res_phase0 * tolerance):\n",
    "        current_step += 1\n",
    "        dt.setValue(dt.value * 1.1)\n",
    "    else:\n",
    "        dt.setValue(dt.value * 0.8)\n",
    "        uu[:] == uu.old\n",
    "        phase[:] = phase.old\n",
    "\n"
   ]
  },
  {
   "cell_type": "code",
   "execution_count": 424,
   "metadata": {
    "collapsed": false
   },
   "outputs": [
    {
     "data": {
      "image/png": "[encoded data removed]"
     },
     "metadata": {},
     "output_type": "display_data"
    },
    {
     "data": {
      "text/plain": [
       "<matplotlib.figure.Figure at 0x7f3dfb3f5ed0>"
      ]
     },
     "metadata": {},
     "output_type": "display_data"
    }
   ],
   "source": [
    "phase_viewer.plot()"
   ]
  },
  {
   "cell_type": "code",
   "execution_count": 335,
   "metadata": {
    "collapsed": false
   },
   "outputs": [
    {
     "name": "stdout",
     "output_type": "stream",
     "text": [
      "[ 1.  1.  1. ...,  1.  1.  1.]\n"
     ]
    }
   ],
   "source": [
    "print phase"
   ]
  },
  {
   "cell_type": "code",
   "execution_count": null,
   "metadata": {
    "collapsed": true
   },
   "outputs": [],
   "source": [
    "from fipy.tools impor"
   ]
  },
  {
   "cell_type": "code",
   "execution_count": null,
   "metadata": {
    "collapsed": true
   },
   "outputs": [],
   "source": []
  }
 ],
 "metadata": {
  "kernelspec": {
   "display_name": "Python 2",
   "language": "python",
   "name": "python2"
  },
  "language_info": {
   "codemirror_mode": {
    "name": "ipython",
    "version": 2
   },
   "file_extension": ".py",
   "mimetype": "text/x-python",
   "name": "python",
   "nbconvert_exporter": "python",
   "pygments_lexer": "ipython2",
   "version": "2.7.11"
  }
 },
 "nbformat": 4,
 "nbformat_minor": 0
}
