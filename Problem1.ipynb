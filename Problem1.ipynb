{
 "cells": [
  {
   "cell_type": "code",
   "execution_count": 41,
   "metadata": {
    "collapsed": false
   },
   "outputs": [],
   "source": [
    "%matplotlib inline\n",
    "\n",
    "import fipy as fp\n",
    "import fipy.tools.numerix as numerix"
   ]
  },
  {
   "cell_type": "code",
   "execution_count": 42,
   "metadata": {
    "collapsed": true
   },
   "outputs": [],
   "source": [
    "nx = 200\n",
    "ny = 200\n",
    "dx = 0.25\n",
    "dy = 0.25\n",
    "dt = 0.1\n",
    "mesh = fp.Grid2D(nx=nx, ny=ny, dx=dx, dy=dy)"
   ]
  },
  {
   "cell_type": "code",
   "execution_count": 43,
   "metadata": {
    "collapsed": false
   },
   "outputs": [],
   "source": [
    "mm = 4\n",
    "epsilon_m = 0.0#25\n",
    "theta_0 = 0.0\n",
    "tau_0 = 1.\n",
    "DD = 10.\n",
    "W_0 = 1.\n",
    "lamda = DD * tau_0 / 0.6267 / W_0**2\n",
    "delta = 0.05"
   ]
  },
  {
   "cell_type": "code",
   "execution_count": 44,
   "metadata": {
    "collapsed": false
   },
   "outputs": [],
   "source": [
    "phase = fp.CellVariable(mesh=mesh, hasOld=True)\n",
    "uu = fp.CellVariable(mesh=mesh, hasOld=True)\n",
    "uu.constrain(-delta, mesh.exteriorFaces)"
   ]
  },
  {
   "cell_type": "code",
   "execution_count": 45,
   "metadata": {
    "collapsed": true
   },
   "outputs": [],
   "source": [
    "def initialize():\n",
    "    phase[:] = -1.0\n",
    "    x, y = mesh.cellCenters\n",
    "    radius = 5.0\n",
    "    center = (nx * dx / 2., ny * dy / 2.)\n",
    "    mask = (x - center[0])**2 + (y - center[1])**2 < radius**2\n",
    "    phase.setValue(1., where=mask)\n",
    "    uu[:] = -delta\n",
    "    #dt = fp.Variable(0.1)\n",
    "initialize()"
   ]
  },
  {
   "cell_type": "code",
   "execution_count": 46,
   "metadata": {
    "collapsed": false
   },
   "outputs": [],
   "source": [
    "def make_tau(phase_):\n",
    "    theta_cell = numerix.arctan2(phase_.grad[1], phase_.grad[0])\n",
    "    a_cell = 1 + epsilon_m * numerix.cos(mm * theta_cell - theta_0)\n",
    "    return tau_0 * a_cell**2\n",
    "\n",
    "tau = make_tau(phase)\n",
    "tau_old = make_tau(phase.old)"
   ]
  },
  {
   "cell_type": "code",
   "execution_count": 47,
   "metadata": {
    "collapsed": false
   },
   "outputs": [],
   "source": [
    "source_explicit = 2 * phase**3 - lamda * uu * (1 - phase**2) * (1 + 3 * phase**2)\n",
    "source_implicit = (1 - 3 * phase**2) + 4 * lamda * uu * phase * (1 - phase**2)\n",
    "# source = (phase - lamda * uu * (1 - phase**2)) * (1 - phase**2)"
   ]
  },
  {
   "cell_type": "code",
   "execution_count": 48,
   "metadata": {
    "collapsed": false
   },
   "outputs": [],
   "source": [
    "theta = numerix.arctan2(phase.faceGrad[1], phase.faceGrad[0])\n",
    "W = W_0 * (1 + epsilon_m * numerix.cos(mm * theta - theta_0))\n",
    "\n",
    "W_theta = - W_0 * mm * epsilon_m * numerix.sin(mm * theta - theta_0)\n",
    "\n",
    "I0 = fp.Variable(value=((1,0), (0,1)))\n",
    "I1 = fp.Variable(value=((0,-1), (1,0)))\n",
    "\n",
    "Dphase = W**2 * I0 + W * W_theta * I1"
   ]
  },
  {
   "cell_type": "code",
   "execution_count": 49,
   "metadata": {
    "collapsed": false
   },
   "outputs": [],
   "source": [
    "heat_eqn = fp.TransientTerm() == fp.DiffusionTerm(DD) + (phase - phase.old) / dt / 2.\n",
    "tau = 1.0\n",
    "phase_eqn = fp.TransientTerm(tau) == fp.DiffusionTerm(Dphase) + source_explicit + \\\n",
    "            fp.ImplicitSourceTerm(source_implicit) #+ fp.ImplicitSourceTerm((tau - tau_old) / dt)"
   ]
  },
  {
   "cell_type": "code",
   "execution_count": 50,
   "metadata": {
    "collapsed": false
   },
   "outputs": [
    {
     "ename": "TypeError",
     "evalue": "'float' object is not iterable",
     "output_type": "error",
     "traceback": [
      "\u001b[1;31m---------------------------------------------------------------------------\u001b[0m",
      "\u001b[1;31mTypeError\u001b[0m                                 Traceback (most recent call last)",
      "\u001b[1;32m<ipython-input-50-5e2991b9d5c4>\u001b[0m in \u001b[0;36m<module>\u001b[1;34m()\u001b[0m\n\u001b[1;32m----> 1\u001b[1;33m \u001b[1;32mprint\u001b[0m \u001b[0mmax\u001b[0m\u001b[1;33m(\u001b[0m\u001b[0mtau\u001b[0m\u001b[1;33m)\u001b[0m\u001b[1;33m,\u001b[0m \u001b[0mmin\u001b[0m\u001b[1;33m(\u001b[0m\u001b[0mtau\u001b[0m\u001b[1;33m)\u001b[0m\u001b[1;33m\u001b[0m\u001b[0m\n\u001b[0m",
      "\u001b[1;31mTypeError\u001b[0m: 'float' object is not iterable"
     ]
    }
   ],
   "source": [
    "print max(tau), min(tau)"
   ]
  },
  {
   "cell_type": "code",
   "execution_count": 51,
   "metadata": {
    "collapsed": false
   },
   "outputs": [
    {
     "data": {
      "image/png": "[encoded data removed]"
     },
     "metadata": {},
     "output_type": "display_data"
    },
    {
     "data": {
      "image/png": "[encoded data removed]",
      "text/plain": [
       "<matplotlib.figure.Figure at 0x7f57788aa9d0>"
      ]
     },
     "metadata": {},
     "output_type": "display_data"
    },
    {
     "data": {
      "image/png": "[encoded data removed]",
      "text/plain": [
       "<matplotlib.figure.Figure at 0x7f5775217710>"
      ]
     },
     "metadata": {},
     "output_type": "display_data"
    }
   ],
   "source": [
    "phase_viewer = fp.Viewer(phase)\n",
    "uu_viewer = fp.Viewer(uu)\n",
    "phase_viewer.plot()\n",
    "uu_viewer.plot()"
   ]
  },
  {
   "cell_type": "code",
   "execution_count": 52,
   "metadata": {
    "collapsed": false
   },
   "outputs": [
    {
     "name": "stdout",
     "output_type": "stream",
     "text": [
      "\n",
      "dt 0.1\n",
      "current_step 0\n",
      "res_heat 0.0 0.000213553269504\n",
      "res_phase 44.8998886413 6.85918490211e-05\n",
      "\n",
      "dt 0.1\n",
      "current_step 1\n",
      "res_heat 3.38425293197 7.35011356799e-05\n",
      "res_phase 7.32278044453 3.10823894854e-05\n",
      "\n",
      "dt 0.1\n",
      "current_step 2\n",
      "res_heat 1.32324544042 0.000101417916731\n",
      "res_phase 2.70604582523 4.88880084704e-05\n",
      "\n",
      "dt 0.1\n",
      "current_step 3\n",
      "res_heat 0.809748785603 0.000301915870383\n",
      "res_phase 1.66356805671 0.000157856361919\n",
      "\n",
      "dt 0.1\n",
      "current_step 4\n",
      "res_heat 0.587102657242 0.000492838541382\n",
      "res_phase 1.21933326736 0.000272561249735\n",
      "\n",
      "dt 0.1\n",
      "current_step 5\n",
      "res_heat 0.459655894532 0.000650572036593\n",
      "res_phase 0.967382483429 0.000374575725587\n",
      "\n",
      "dt 0.1\n",
      "current_step 6\n",
      "res_heat 0.376770422182 0.000772799595993\n",
      "res_phase 0.803374504175 0.000458457994648\n",
      "\n",
      "dt 0.1\n",
      "current_step 7\n",
      "res_heat 0.318538514859 0.000862463959543\n",
      "res_phase 0.687273103031 0.000523795034538\n",
      "\n",
      "dt 0.1\n",
      "current_step 8\n",
      "res_heat 0.275291692589 0.000926060059214\n",
      "res_phase 0.600241672714 0.000573182676436\n",
      "\n",
      "dt 0.1\n",
      "current_step 9\n",
      "res_heat 0.241756065997 0.000967372148891\n",
      "res_phase 0.532246072503 0.000608069793788\n",
      "\n",
      "dt 0.1\n",
      "current_step 10\n",
      "res_heat 0.214849050259 0.000991277154077\n",
      "res_phase 0.477461488529 0.000631153070231\n",
      "\n",
      "dt 0.1\n",
      "current_step 11\n",
      "res_heat 0.19268214336 0.00100154730027\n",
      "res_phase 0.432281610662 0.000644617704134\n",
      "\n",
      "dt 0.1\n",
      "current_step 12\n",
      "res_heat 0.174052343214 0.00100156443445\n",
      "res_phase 0.394356173993 0.000650551670778\n",
      "\n",
      "dt 0.1\n",
      "current_step 13\n",
      "res_heat 0.158163816298 0.000994237204678\n",
      "res_phase 0.362086158084 0.000650813649448\n",
      "\n",
      "dt 0.1\n",
      "current_step 14\n",
      "res_heat 0.144469224519 0.000982111733387\n",
      "res_phase 0.334342082539 0.000647201371992\n",
      "\n",
      "dt 0.1\n",
      "current_step 15\n",
      "res_heat 0.132576888023 0.00096691025155\n",
      "res_phase 0.310298937598 0.000640934686761\n",
      "\n",
      "dt 0.1\n",
      "current_step 16\n",
      "res_heat 0.122195406649 0.000949774922052\n",
      "res_phase 0.289335687899 0.000632840445533\n",
      "\n",
      "dt 0.1\n",
      "current_step 17\n",
      "res_heat 0.113100019826 0.0009314614124\n",
      "res_phase 0.270972001787 0.000623459354132\n",
      "\n",
      "dt 0.1\n",
      "current_step 18\n",
      "res_heat 0.105111759742 0.000912800528569\n",
      "res_phase 0.25482729671 0.000613427640976\n",
      "\n",
      "dt 0.1\n",
      "current_step 19\n",
      "res_heat 0.0980842786169 0.00089428689463\n",
      "res_phase 0.240593500517 0.000603133258777\n",
      "\n",
      "dt 0.1\n",
      "current_step 20\n",
      "res_heat 0.0918952703217 0.000876253711188\n",
      "res_phase 0.228016632482 0.000592851870021\n",
      "\n",
      "dt 0.1\n",
      "current_step 21\n",
      "res_heat 0.0864407605547 0.000858921270669\n",
      "res_phase 0.216884015149 0.000582771619006\n",
      "\n",
      "dt 0.1\n",
      "current_step 22\n",
      "res_heat 0.08163120366 0.00084244845985\n",
      "res_phase 0.207015224949 0.000573044194428\n",
      "\n",
      "dt 0.1\n",
      "current_step 23\n",
      "res_heat 0.0773887330065 0.000826972139772\n",
      "res_phase 0.198255557345 0.000563795007781\n",
      "\n",
      "dt 0.1\n",
      "current_step 24\n",
      "res_heat 0.0736451646529 0.000812592738767\n",
      "res_phase 0.190471224956 0.000555130151235\n",
      "\n",
      "dt 0.1\n",
      "current_step 25\n",
      "res_heat 0.0703405112182 0.000799235944021\n",
      "res_phase 0.18354575583 0.000547022136749\n",
      "\n",
      "dt 0.1\n",
      "current_step 26\n",
      "res_heat 0.0674218268456 0.000786836827457\n",
      "res_phase 0.177377269007 0.00053943594543\n",
      "\n",
      "dt 0.1\n",
      "current_step 27\n",
      "res_heat 0.0648423098475 0.00077540480262\n",
      "res_phase 0.171876322908 0.000532404086484\n",
      "\n",
      "dt 0.1\n",
      "current_step 28\n",
      "res_heat 0.0625605831748 0.000764893925938\n",
      "res_phase 0.166964182913 0.000525908585357\n",
      "\n",
      "dt 0.1\n",
      "current_step 29\n",
      "res_heat 0.0605400735884 0.000755217265341\n",
      "res_phase 0.162571447005 0.000519904582659\n",
      "\n",
      "dt 0.1\n",
      "current_step 30\n",
      "res_heat 0.0587484866958 0.000746273899784\n",
      "res_phase 0.158636896911 0.000514329673884\n",
      "\n",
      "dt 0.1\n",
      "current_step 31\n",
      "res_heat 0.0571573493454 0.00073799032434\n",
      "res_phase 0.155106525373 0.000509137772682\n",
      "\n",
      "dt 0.1\n",
      "current_step 32\n",
      "res_heat 0.0557416058191 0.000730318270744\n",
      "res_phase 0.151932692027 0.000504308078583\n",
      "\n",
      "dt 0.1\n",
      "current_step 33\n",
      "res_heat 0.0544792513698 0.000723194070548\n",
      "res_phase 0.149073388446 0.000499801034795\n",
      "\n",
      "dt 0.1\n",
      "current_step 34\n",
      "res_heat 0.0533509965897 0.00071657389904\n",
      "res_phase 0.146491602674 0.000495595331441\n",
      "\n",
      "dt 0.1\n",
      "current_step 35\n",
      "res_heat 0.0523399654299 0.00071039370841\n",
      "res_phase 0.144154746077 0.000491651354477\n",
      "\n",
      "dt 0.1\n",
      "current_step 36\n",
      "res_heat 0.0514314169087 0.000704629162951\n",
      "res_phase 0.142034152635 0.00048795838418\n",
      "\n",
      "dt 0.1\n",
      "current_step 37\n",
      "res_heat 0.0506124985757 0.000699255591271\n",
      "res_phase 0.140104618762 0.000484505990286\n",
      "\n",
      "dt 0.1\n",
      "current_step 38\n",
      "res_heat 0.0498720189125 0.000694234363674\n",
      "res_phase 0.138344000787 0.000481270987278\n",
      "\n",
      "dt 0.1\n",
      "current_step 39\n",
      "res_heat 0.0492002419007 0.000689510324329\n",
      "res_phase 0.136732858433 0.000478214169562\n"
     ]
    }
   ],
   "source": [
    "initialize()\n",
    "#dt.setValue(0.01)\n",
    "total_steps = 40\n",
    "sweeps = 5\n",
    "tolerance = 1e-1\n",
    "from fipy.solvers.pysparse import LinearLUSolver as Solver\n",
    "solver_heat = Solver()\n",
    "solver_phase = Solver()\n",
    "\n",
    "current_step = 0\n",
    "while current_step < total_steps:\n",
    "    uu.updateOld()\n",
    "    phase.updateOld()\n",
    "\n",
    "    res_heat0 = heat_eqn.sweep(uu, dt=dt, solver=solver_heat)\n",
    "    res_phase0 = phase_eqn.sweep(phase, dt=dt, solver=solver_phase)\n",
    "\n",
    "    for sweep in range(sweeps):\n",
    "        res_heat = heat_eqn.sweep(uu, dt=dt, solver=solver_heat)\n",
    "        res_phase = phase_eqn.sweep(phase, dt=dt, solver=solver_phase)\n",
    "\n",
    "    \n",
    "    print\n",
    "    print 'dt',dt  \n",
    "    print 'current_step',current_step\n",
    "    print 'res_heat',res_heat0, res_heat\n",
    "    print 'res_phase',res_phase0, res_phase\n",
    "#    if (res_heat < res_heat0 * tolerance) and (res_phase < res_phase0 * tolerance):\n",
    "    current_step += 1\n",
    "#        dt.setValue(dt.value * 1.1)\n",
    "#    else:\n",
    "#        dt.setValue(dt.value * 0.8)\n",
    "#        uu[:] == uu.old\n",
    "#        phase[:] = phase.old\n",
    "\n"
   ]
  },
  {
   "cell_type": "code",
   "execution_count": 53,
   "metadata": {
    "collapsed": false
   },
   "outputs": [
    {
     "data": {
      "image/png": "[encoded data removed]"
     },
     "metadata": {},
     "output_type": "display_data"
    },
    {
     "data": {
      "text/plain": [
       "<matplotlib.figure.Figure at 0x7f5775044fd0>"
      ]
     },
     "metadata": {},
     "output_type": "display_data"
    }
   ],
   "source": [
    "phase_viewer.plot()"
   ]
  },
  {
   "cell_type": "code",
   "execution_count": 54,
   "metadata": {
    "collapsed": false
   },
   "outputs": [
    {
     "data": {
      "text/plain": [
       "0.99373069742389353"
      ]
     },
     "execution_count": 54,
     "metadata": {},
     "output_type": "execute_result"
    }
   ],
   "source": [
    "max(phase)"
   ]
  },
  {
   "cell_type": "code",
   "execution_count": null,
   "metadata": {
    "collapsed": true
   },
   "outputs": [],
   "source": [
    "from fipy.tools impor"
   ]
  },
  {
   "cell_type": "code",
   "execution_count": null,
   "metadata": {
    "collapsed": true
   },
   "outputs": [],
   "source": []
  }
 ],
 "metadata": {
  "kernelspec": {
   "display_name": "Python 2",
   "language": "python",
   "name": "python2"
  },
  "language_info": {
   "codemirror_mode": {
    "name": "ipython",
    "version": 2
   },
   "file_extension": ".py",
   "mimetype": "text/x-python",
   "name": "python",
   "nbconvert_exporter": "python",
   "pygments_lexer": "ipython2",
   "version": "2.7.11"
  }
 },
 "nbformat": 4,
 "nbformat_minor": 0
}
