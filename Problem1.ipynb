{
 "cells": [
  {
   "cell_type": "code",
   "execution_count": 1,
   "metadata": {
    "collapsed": false
   },
   "outputs": [],
   "source": [
    "%matplotlib inline\n",
    "\n",
    "from fipy import CellVariable, DiffusionTerm, Grid2D, parallelComm, TransientTerm, Variable, Viewer\n",
    "from fipy.tools import dump, numerix\n",
    "import numpy as np"
   ]
  },
  {
   "cell_type": "code",
   "execution_count": 2,
   "metadata": {
    "collapsed": true
   },
   "outputs": [],
   "source": [
    "# Numerical parameters\n",
    "nx = ny = 400         # domain size\n",
    "dx = dy = 0.25        # mesh resolution\n",
    "dt = Variable(0.1) # initial timestep"
   ]
  },
  {
   "cell_type": "code",
   "execution_count": 3,
   "metadata": {
    "collapsed": false
   },
   "outputs": [],
   "source": [
    "# Physical parameters\n",
    "mm = 4.               # anisotropic symmetry\n",
    "epsilon_m = 0.025     # degree of anisotropy\n",
    "theta_0 = 0.0         # tilt w.r.t. x-axis\n",
    "tau_0 = 1.            # numerical mobility\n",
    "DD = 10.              # thermal diffusivity\n",
    "W_0 = 1.              # isotropic well height\n",
    "lamda = DD * tau_0 / 0.6267 / W_0**2\n",
    "delta = 0.05          # undercooling"
   ]
  },
  {
   "cell_type": "code",
   "execution_count": 4,
   "metadata": {
    "collapsed": false
   },
   "outputs": [],
   "source": [
    "# Mesh and field variables\n",
    "mesh = Grid2D(nx=nx, ny=ny, dx=dx, dy=dy)\n",
    "phase = CellVariable(mesh=mesh, hasOld=True)\n",
    "uu = CellVariable(mesh=mesh, hasOld=True)\n",
    "uu.constrain(-delta, mesh.exteriorFaces)"
   ]
  },
  {
   "cell_type": "code",
   "execution_count": 5,
   "metadata": {
    "collapsed": true
   },
   "outputs": [],
   "source": [
    "def initialize():\n",
    "    phase[:] = -1.0\n",
    "    x, y = mesh.cellCenters\n",
    "    radius = 4.0 # Initial r=1 collapses due to Gibbs-Thomson, r=2 slumps to phi=0.6, r=4 seems OK.\n",
    "    center = (nx * dx / 2., ny * dy / 2.)\n",
    "    mask = (x - center[0])**2 + (y - center[1])**2 < radius**2\n",
    "    phase.setValue(1., where=mask)\n",
    "    uu[:] = -delta\n",
    "\n",
    "initialize()"
   ]
  },
  {
   "cell_type": "code",
   "execution_count": 6,
   "metadata": {
    "collapsed": false
   },
   "outputs": [],
   "source": [
    "def make_tau(phase_):\n",
    "    theta_cell = numerix.arctan2(phase_.grad[1], phase_.grad[0])\n",
    "    a_cell = 1 + epsilon_m * numerix.cos(mm * theta_cell + theta_0)\n",
    "    return tau_0 * a_cell**2\n",
    "\n",
    "tau = make_tau(phase)\n",
    "tau_old = make_tau(phase.old)"
   ]
  },
  {
   "cell_type": "code",
   "execution_count": 7,
   "metadata": {
    "collapsed": false
   },
   "outputs": [],
   "source": [
    "source = (phase - lamda * uu * (1 - phase**2)) * (1 - phase**2)"
   ]
  },
  {
   "cell_type": "code",
   "execution_count": 8,
   "metadata": {
    "collapsed": false
   },
   "outputs": [],
   "source": [
    "theta = numerix.arctan2(phase.faceGrad[1], phase.faceGrad[0])\n",
    "W = W_0 * (1 + epsilon_m * numerix.cos(mm * theta - theta_0))\n",
    "\n",
    "W_theta = - W_0 * mm * epsilon_m * numerix.sin(mm * theta - theta_0)"
   ]
  },
  {
   "cell_type": "code",
   "execution_count": 9,
   "metadata": {
    "collapsed": true
   },
   "outputs": [],
   "source": [
    "# Build up the diffusivity matrix\n",
    "I0 = Variable(value=((1,0), (0,1)))\n",
    "I1 = Variable(value=((0,-1), (1,0)))\n",
    "Dphase = W**2 * I0 + W * W_theta * I1"
   ]
  },
  {
   "cell_type": "code",
   "execution_count": 10,
   "metadata": {
    "collapsed": false
   },
   "outputs": [],
   "source": [
    "heat_eqn = TransientTerm() == DiffusionTerm(DD) + (phase - phase.old) / dt / 2.\n",
    "\n",
    "phase_eqn = TransientTerm(tau) == DiffusionTerm(Dphase) + source\n",
    "\n",
    "initialize()"
   ]
  },
  {
   "cell_type": "code",
   "execution_count": 11,
   "metadata": {
    "collapsed": false
   },
   "outputs": [
    {
     "name": "stdout",
     "output_type": "stream",
     "text": [
      "solid area 50.75\n"
     ]
    }
   ],
   "source": [
    "solid_area = (np.array(phase.globalValue)>0).sum()*dx*dy # initial size of solid nucleus\n",
    "if parallelComm.procID==0:\n",
    "    print 'solid area', solid_area"
   ]
  },
  {
   "cell_type": "code",
   "execution_count": 12,
   "metadata": {
    "collapsed": false
   },
   "outputs": [],
   "source": [
    "# Serial:\n",
    "from fipy.solvers.pysparse import LinearLUSolver as Solver\n",
    "solver_heat = Solver()\n",
    "solver_phase = Solver()\n",
    "\n",
    "## Parallel: mpirun with --trilinos for proper meshing, etc.\n",
    "#from fipy.solvers.trilinos import LinearGMRESSolver as Solver\n",
    "#solver_heat = Solver(precon=None)\n",
    "#solver_phase = Solver(precon=None)"
   ]
  },
  {
   "cell_type": "code",
   "execution_count": 13,
   "metadata": {
    "collapsed": false
   },
   "outputs": [
    {
     "data": {
      "image/png": "[encoded data removed]"
     },
     "metadata": {},
     "output_type": "display_data"
    },
    {
     "data": {
      "image/png": "[encoded data removed]",
      "text/plain": [
       "<matplotlib.figure.Figure at 0x7fbb98c24250>"
      ]
     },
     "metadata": {},
     "output_type": "display_data"
    },
    {
     "data": {
      "image/png": "[encoded data removed]",
      "text/plain": [
       "<matplotlib.figure.Figure at 0x7fbb98876c90>"
      ]
     },
     "metadata": {},
     "output_type": "display_data"
    }
   ],
   "source": [
    "phase_viewer = Viewer(phase)\n",
    "heat_viewer = Viewer(uu)\n",
    "phase_viewer.plot()\n",
    "heat_viewer.plot()"
   ]
  },
  {
   "cell_type": "code",
   "execution_count": 14,
   "metadata": {
    "collapsed": false
   },
   "outputs": [
    {
     "name": "stdout",
     "output_type": "stream",
     "text": [
      "\n",
      "dt 0.1\n",
      "current_step 0\n",
      "res_heat 0.0 0.0676351819552\n",
      "res_phase 41.8008056236 0.0417830716388\n",
      "solid area 50.75\n",
      "\n",
      "dt 0.08\n",
      "current_step 0\n",
      "res_heat 3.03647248448 0.0530348558822\n",
      "res_phase 41.8008056236 0.0291322118748\n",
      "solid area 50.75\n",
      "\n",
      "dt 0.088\n",
      "current_step 1\n",
      "res_heat 3.70374519218 0.0298611408946\n",
      "res_phase 7.62822637987 0.017717207684\n",
      "solid area 50.75\n",
      "\n",
      "dt 0.0968\n",
      "current_step 2\n",
      "res_heat 1.42434742787 0.0194823863786\n",
      "res_phase 2.79844957631 0.0118096638847\n",
      "solid area 50.75\n",
      "\n",
      "dt 0.10648\n",
      "current_step 3\n",
      "res_heat 0.833382214717 0.0127220423246\n",
      "res_phase 1.65505085412 0.00758490523997\n",
      "solid area 51.25\n",
      "\n",
      "dt 0.117128\n",
      "current_step 4\n",
      "res_heat 0.576322634164 0.0099355956267\n",
      "res_phase 1.1642327254 0.00458607068053\n",
      "solid area 51.25\n"
     ]
    }
   ],
   "source": [
    "total_steps = 5\n",
    "sweeps = 3\n",
    "tolerance = 0.1\n",
    "\n",
    "elapsed_time = 0.0\n",
    "current_step = 0\n",
    "\n",
    "while current_step < total_steps:\n",
    "    uu.updateOld()\n",
    "    phase.updateOld()\n",
    "\n",
    "    res_heat0 = heat_eqn.sweep(uu, dt=dt.value, solver=solver_heat)\n",
    "    res_phase0 = phase_eqn.sweep(phase, dt=dt.value, solver=solver_phase)\n",
    "\n",
    "    for sweep in range(sweeps):\n",
    "        res_heat = heat_eqn.sweep(uu, dt=dt.value, solver=solver_heat)\n",
    "        res_phase = phase_eqn.sweep(phase, dt=dt.value, solver=solver_phase)\n",
    "\n",
    "    solid_area = (np.array(phase.globalValue)>0).sum()*dx*dy # initial size of solid nucleus\n",
    "\n",
    "    if parallelComm.procID==0:\n",
    "        print\n",
    "        print 'dt',dt.value\n",
    "        print 'current_step',current_step\n",
    "        print 'res_heat',res_heat0, res_heat\n",
    "        print 'res_phase',res_phase0, res_phase\n",
    "        print 'solid area', solid_area\n",
    "\n",
    "    if (res_heat < res_heat0 * tolerance) and (res_phase < res_phase0 * tolerance):\n",
    "        elapsed_time += dt.value\n",
    "        current_step += 1\n",
    "        dt.setValue(dt.value * 1.1)\n",
    "        if current_step % 10 == 0:\n",
    "            glu = uu.globalValue\n",
    "            glp = phase.globalValue\n",
    "            if parallelComm.procID==0:\n",
    "                np.savez_compressed('data-test/dump{0}.npz'.format(current_step), uu=np.array(glu), phase=np.array(glp), elapsed_time=np.array(elapsed_time))\n",
    "    else:\n",
    "        dt.setValue(dt.value * 0.8)\n",
    "        uu[:] == uu.old\n",
    "        phase[:] = phase.old"
   ]
  },
  {
   "cell_type": "code",
   "execution_count": 15,
   "metadata": {
    "collapsed": false
   },
   "outputs": [
    {
     "data": {
      "image/png": "[encoded data removed]"
     },
     "metadata": {},
     "output_type": "display_data"
    },
    {
     "data": {
      "text/plain": [
       "<matplotlib.figure.Figure at 0x7fbb98760ed0>"
      ]
     },
     "metadata": {},
     "output_type": "display_data"
    }
   ],
   "source": [
    "phase_viewer.plot()"
   ]
  },
  {
   "cell_type": "code",
   "execution_count": 16,
   "metadata": {
    "collapsed": false
   },
   "outputs": [
    {
     "data": {
      "image/png": "[encoded data removed]"
     },
     "metadata": {},
     "output_type": "display_data"
    },
    {
     "data": {
      "text/plain": [
       "<matplotlib.figure.Figure at 0x7fbb988c3dd0>"
      ]
     },
     "metadata": {},
     "output_type": "display_data"
    }
   ],
   "source": [
    "heat_viewer.plot()"
   ]
  },
  {
   "cell_type": "code",
   "execution_count": 1,
   "metadata": {
    "collapsed": false
   },
   "outputs": [
    {
     "data": {
      "text/html": [
       "\n",
       "        <iframe\n",
       "            width=\"630.0\"\n",
       "            height=\"472.5\"\n",
       "            src=\"https://www.youtube.com/embed/uG1mZTrnOFA?rel=0\"\n",
       "            frameborder=\"0\"\n",
       "            allowfullscreen\n",
       "        ></iframe>\n",
       "        "
      ],
      "text/plain": [
       "<IPython.lib.display.YouTubeVideo at 0x7f5a440dae10>"
      ]
     },
     "execution_count": 1,
     "metadata": {},
     "output_type": "execute_result"
    }
   ],
   "source": [
    "# 4-fold Anisotropy video, problem 1a\n",
    "# Produced using Imagemagick montage and ffmpeg:\n",
    "# os.system('montage img/dump{0}_*.png -geometry +0+0 img/combo{0}.png'.format(step))\n",
    "# ffmpeg -framerate 30 -pattern_type glob -i 'img/combo????.png' -c:v libx264 -r 30 -pix_fmt yuv420p Problem1a.mp4\n",
    "\n",
    "from IPython.display import YouTubeVideo\n",
    "scale = 1.5\n",
    "YouTubeVideo('uG1mZTrnOFA', width=420 * scale, height=315 * scale, rel=0)"
   ]
  },
  {
   "cell_type": "code",
   "execution_count": 1,
   "metadata": {
    "collapsed": false
   },
   "outputs": [
    {
     "data": {
      "text/html": [
       "\n",
       "        <iframe\n",
       "            width=\"630.0\"\n",
       "            height=\"472.5\"\n",
       "            src=\"https://www.youtube.com/embed/rJ22Xyfx8F4?rel=0\"\n",
       "            frameborder=\"0\"\n",
       "            allowfullscreen\n",
       "        ></iframe>\n",
       "        "
      ],
      "text/plain": [
       "<IPython.lib.display.YouTubeVideo at 0x7f92a4154e90>"
      ]
     },
     "execution_count": 1,
     "metadata": {},
     "output_type": "execute_result"
    }
   ],
   "source": [
    "# 4-fold Anisotropy video, problem 1a\n",
    "# Produced using Imagemagick montage and ffmpeg:\n",
    "# os.system('montage img/dump{0}_*.png -geometry +0+0 img/combo{0}.png'.format(step))\n",
    "# ffmpeg -framerate 30 -pattern_type glob -i 'img/combo????.png' -c:v libx264 -r 30 -pix_fmt yuv420p Problem1a.mp4\n",
    "\n",
    "from IPython.display import YouTubeVideo\n",
    "scale = 1.5\n",
    "YouTubeVideo('rJ22Xyfx8F4', width=420 * scale, height=315 * scale, rel=0)"
   ]
  },
  {
   "cell_type": "code",
   "execution_count": null,
   "metadata": {
    "collapsed": true
   },
   "outputs": [],
   "source": []
  }
 ],
 "metadata": {
  "kernelspec": {
   "display_name": "Python 2",
   "language": "python",
   "name": "python2"
  },
  "language_info": {
   "codemirror_mode": {
    "name": "ipython",
    "version": 2
   },
   "file_extension": ".py",
   "mimetype": "text/x-python",
   "name": "python",
   "nbconvert_exporter": "python",
   "pygments_lexer": "ipython2",
   "version": "2.7.11+"
  }
 },
 "nbformat": 4,
 "nbformat_minor": 0
}
