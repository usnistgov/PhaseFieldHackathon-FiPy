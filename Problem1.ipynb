{
 "cells": [
  {
   "cell_type": "code",
   "execution_count": null,
   "metadata": {
    "collapsed": true
   },
   "outputs": [],
   "source": [
    "import fipy as fp\n"
   ]
  },
  {
   "cell_type": "code",
   "execution_count": null,
   "metadata": {
    "collapsed": true
   },
   "outputs": [],
   "source": [
    "import fipy as fp\n",
    "\n",
    "\n",
    "\n",
    "\n",
    "g\n",
    "\n",
    "source_explicit = 2 * phi**3 - lamda * uu * (1 - phi**2) * (1 + 3 * phi**2)\n",
    "source_implicit = (1 - 3 * phi**2) + 4 * lamda * uu * phi * (1 - phi**2)\n",
    "\n",
    "heat_eqn = TransientTerm() == DiffusionTerm(D) + (phi - phi.old) / dt / 2.\n",
    "\n",
    "phase_eqn = TransientTerm(tau) == DiffusionTerm(Dphi) + source_explicit + ImplicitSourceTerm(source_implicit)\n"
   ]
  },
  {
   "cell_type": "code",
   "execution_count": null,
   "metadata": {
    "collapsed": true
   },
   "outputs": [],
   "source": [
    "theta = numerix.arctan2(phase.faceGrad[1], phase.faceGrad[0])\n",
    "\n",
    "W = W_0 * (1 + epsilon_m * numerix.cos(m * theta + theta_0))\n",
    "\n",
    "W_theta = - W_0 * m * epsilon_m * numerix.sin(m * theta + theta_0)\n",
    "\n",
    "I0 = Variable(value=((1,0), (0,1)))\n",
    "I1 = Variable(value=((0,-1), (1,0)))\n",
    "\n",
    "Dphi = W**2 * I0 + W * W_theta * I1\n"
   ]
  }
 ],
 "metadata": {
  "kernelspec": {
   "display_name": "Python 2",
   "language": "python",
   "name": "python2"
  },
  "language_info": {
   "codemirror_mode": {
    "name": "ipython",
    "version": 2
   },
   "file_extension": ".py",
   "mimetype": "text/x-python",
   "name": "python",
   "nbconvert_exporter": "python",
   "pygments_lexer": "ipython2",
   "version": "2.7.11"
  }
 },
 "nbformat": 4,
 "nbformat_minor": 0
}
