{
 "cells": [
  {
   "cell_type": "markdown",
   "metadata": {},
   "source": [
    "# Problem 2.2 (c)\n",
    "\n",
    "(Potato in a stew) What is the equilibrium shape of a $0.0042\\,\\mathrm{\\mu m}^3$ volume of $\\mathrm{Al_2SiO_5}$ in free space (stress-free boundaries)? Take the surface energy, $\\gamma$, to be equal to $200\\,\\mathrm{mJ/m^2}$. The crystalline axes a, b, and c are aligned with the x, y, and z-axes of a Cartesian lab coordinate system."
   ]
  },
  {
   "cell_type": "markdown",
   "metadata": {},
   "source": [
    "## imports"
   ]
  },
  {
   "cell_type": "code",
   "execution_count": 1,
   "metadata": {
    "collapsed": false
   },
   "outputs": [],
   "source": [
    "%matplotlib inline"
   ]
  },
  {
   "cell_type": "code",
   "execution_count": 2,
   "metadata": {
    "collapsed": true
   },
   "outputs": [],
   "source": [
    "import fipy as fp"
   ]
  },
  {
   "cell_type": "code",
   "execution_count": 3,
   "metadata": {
    "collapsed": true
   },
   "outputs": [],
   "source": [
    "from fipy import numerix as nmx"
   ]
  },
  {
   "cell_type": "code",
   "execution_count": 4,
   "metadata": {
    "collapsed": true
   },
   "outputs": [],
   "source": [
    "from scipy import fftpack"
   ]
  },
  {
   "cell_type": "markdown",
   "metadata": {},
   "source": [
    "## mesh"
   ]
  },
  {
   "cell_type": "markdown",
   "metadata": {},
   "source": [
    "The interface width W between approximately $\\varphi = 0.1$ and $\\varphi = 0.9$ in this model is given by $W = 2\\sqrt{2\\kappa/h_0}$, while $\\gamma = \\sqrt{\\kappa h_0/18}$, $\\kappa = 1.5\\gamma W$, and $h_0 = 12\\gamma/W$ (ignoring modification of the phase field order parameter $\\varphi$ by the elastic interactions through the interface). Use $\\kappa = 3\\times 10^{-9}\\,\\mathrm{J/m}$, and $h_0 = 2.4\\times 10^{8}\\,\\mathrm{J/m^3}$."
   ]
  },
  {
   "cell_type": "code",
   "execution_count": 5,
   "metadata": {
    "collapsed": true
   },
   "outputs": [],
   "source": [
    "kappa = fp.Variable(\"3e-9 J/m\")"
   ]
  },
  {
   "cell_type": "code",
   "execution_count": 6,
   "metadata": {
    "collapsed": true
   },
   "outputs": [],
   "source": [
    "h0 = fp.Variable(\"2.4e8 J/m**3\")"
   ]
  },
  {
   "cell_type": "code",
   "execution_count": 7,
   "metadata": {
    "collapsed": true
   },
   "outputs": [],
   "source": [
    "W = 2*nmx.sqrt(2*kappa/h0)"
   ]
  },
  {
   "cell_type": "code",
   "execution_count": 8,
   "metadata": {
    "collapsed": false
   },
   "outputs": [
    {
     "name": "stdout",
     "output_type": "stream",
     "text": [
      "1e-08 m\n"
     ]
    }
   ],
   "source": [
    "print W"
   ]
  },
  {
   "cell_type": "markdown",
   "metadata": {},
   "source": [
    "strip away the dimensions"
   ]
  },
  {
   "cell_type": "code",
   "execution_count": 9,
   "metadata": {
    "collapsed": false
   },
   "outputs": [],
   "source": [
    "h0 = h0.value.value\n",
    "kappa = kappa.value.value"
   ]
  },
  {
   "cell_type": "code",
   "execution_count": 10,
   "metadata": {
    "collapsed": true
   },
   "outputs": [],
   "source": [
    "dx = 1e-8 / 5"
   ]
  },
  {
   "cell_type": "code",
   "execution_count": 11,
   "metadata": {
    "collapsed": true
   },
   "outputs": [],
   "source": [
    "Lx = .4e-6"
   ]
  },
  {
   "cell_type": "code",
   "execution_count": 12,
   "metadata": {
    "collapsed": false
   },
   "outputs": [
    {
     "name": "stdout",
     "output_type": "stream",
     "text": [
      "0.00422669875614 mum**3\n"
     ]
    }
   ],
   "source": [
    "print (4./3)*nmx.pi*fp.Variable(\"0.155 mum\")*fp.Variable(\"0.042 mum\")*fp.Variable(\"0.155 mum\")"
   ]
  },
  {
   "cell_type": "code",
   "execution_count": 13,
   "metadata": {
    "collapsed": false
   },
   "outputs": [],
   "source": [
    "mesh = fp.Grid2D(dx=dx, Lx=Lx, dy=dx, Ly=Lx) + [[-Lx/2.], [-Lx/2.]]"
   ]
  },
  {
   "cell_type": "markdown",
   "metadata": {},
   "source": [
    "### reciprocal lattice vector"
   ]
  },
  {
   "cell_type": "code",
   "execution_count": 14,
   "metadata": {
    "collapsed": true
   },
   "outputs": [],
   "source": [
    "g = fp.CellVariable(mesh=mesh, name=r\"$\\vec{g}$\", rank=1)\n",
    "g.value.shape = (-1, g.mesh.nx, g.mesh.nx)\n",
    "g.value[0] = nmx.fft.fftfreq(n=mesh.nx, d=mesh.dx)\n",
    "g.value[1] = nmx.fft.fftfreq(n=mesh.nx, d=mesh.dx)[..., nmx.newaxis]\n",
    "g.value.shape = (-1, g.mesh.numberOfCells)"
   ]
  },
  {
   "cell_type": "markdown",
   "metadata": {},
   "source": [
    "## solution variables"
   ]
  },
  {
   "cell_type": "code",
   "execution_count": 15,
   "metadata": {
    "collapsed": false
   },
   "outputs": [],
   "source": [
    "phase = fp.CellVariable(mesh=mesh, name=r\"$\\varphi$\", value=0., hasOld=True)"
   ]
  },
  {
   "cell_type": "code",
   "execution_count": 16,
   "metadata": {
    "collapsed": true
   },
   "outputs": [],
   "source": [
    "h = phase**3 * (6*phase**2 - 15*phase + 10)"
   ]
  },
  {
   "cell_type": "markdown",
   "metadata": {},
   "source": [
    "## material properties"
   ]
  },
  {
   "cell_type": "markdown",
   "metadata": {},
   "source": [
    "### lattice parameters"
   ]
  },
  {
   "cell_type": "code",
   "execution_count": 17,
   "metadata": {
    "collapsed": true
   },
   "outputs": [],
   "source": [
    "a = 7.738e-10\n",
    "b = 7.857e-10\n",
    "c = 5.534e-10"
   ]
  },
  {
   "cell_type": "code",
   "execution_count": 18,
   "metadata": {
    "collapsed": true
   },
   "outputs": [],
   "source": [
    "am = bm = 7.6918e-10\n",
    "cm = 5.5674e-10"
   ]
  },
  {
   "cell_type": "markdown",
   "metadata": {},
   "source": [
    "The crystallographic misfit strain tensor $\\epsilon_{ij}^T$ is\n",
    "$$\\epsilon_{ij}^T \n",
    "= \\left(\\begin{matrix}\n",
    "\\frac{a-a_m}{a_m} & 0 & 0 \\\\\n",
    "0 & \\frac{b-b_m}{b_m} & 0 \\\\\n",
    "0 & 0 & \\frac{c-c_m}{c_m}\n",
    "\\end{matrix}\\right)$$"
   ]
  },
  {
   "cell_type": "markdown",
   "metadata": {},
   "source": [
    "**note:** These are the *magnitudes*. "
   ]
  },
  {
   "cell_type": "code",
   "execution_count": 19,
   "metadata": {
    "collapsed": false
   },
   "outputs": [],
   "source": [
    "misfit = nmx.zeros((2,2))\n",
    "misfit[0][0] = (a - am) / am\n",
    "misfit[1][1] = (b - bm) / bm"
   ]
  },
  {
   "cell_type": "markdown",
   "metadata": {},
   "source": [
    "### homogeneous strain"
   ]
  },
  {
   "cell_type": "code",
   "execution_count": 20,
   "metadata": {
    "collapsed": true
   },
   "outputs": [],
   "source": [
    "homostrain = nmx.zeros((2,2))"
   ]
  },
  {
   "cell_type": "markdown",
   "metadata": {},
   "source": [
    "### stiffness tensor"
   ]
  },
  {
   "cell_type": "code",
   "execution_count": 21,
   "metadata": {
    "collapsed": false
   },
   "outputs": [],
   "source": [
    "C = {'inclusion': dict(), 'matrix': dict()}\n",
    "\n",
    "C['inclusion'][11] = 233.4e9\n",
    "C['inclusion'][22] = 289.0e9\n",
    "C['inclusion'][33] = 380.1e9\n",
    "C['inclusion'][44] =  99.5e9\n",
    "C['inclusion'][55] =  87.8e9\n",
    "C['inclusion'][66] = 112.3e9\n",
    "C['inclusion'][12] = (233.4e9 - C['inclusion'][11] - C['inclusion'][22]) / 2.\n",
    "C['inclusion'][13] = (380.9e9 - C['inclusion'][11] - C['inclusion'][33]) / 2.\n",
    "C['inclusion'][23] = (506.3e9 - C['inclusion'][22] - C['inclusion'][33]) / 2.\n",
    "\n",
    "C['matrix'][11] = C['matrix'][22] = 269.0e9\n",
    "C['matrix'][33] = 480.0e9\n",
    "C['matrix'][44] = C['matrix'][55] = 124.0e9\n",
    "C['matrix'][66] = 192.0e9\n",
    "C['matrix'][12] = 177.0e9\n",
    "C['matrix'][13] = C['matrix'][23] = 146.0e9\n",
    "\n",
    "for material in ('inclusion', 'matrix'):\n",
    "    C[material]['ijkl'] = nmx.zeros((2, 2, 2, 2))\n",
    "    Cijkl = C[material]['ijkl']\n",
    "    \n",
    "    # Uncompressing the Voigt notation:\n",
    "    \n",
    "    Cijkl[0][0][0][0] = C[material][11]\n",
    "    Cijkl[1][1][1][1] = C[material][22]\n",
    "    # Cijkl[2][2][2][2] = C[material][33]\n",
    "    Cijkl[0][0][1][1] = Cijkl[1][1][0][0] = C[material][12]\n",
    "    # Cijkl[0][0][2][2] = Cijkl[2][2][0][0] = C[material][13]\n",
    "    # Cijkl[1][1][2][2] = Cijkl[2][2][1][1] = C[material][23]\n",
    "    # Cijkl[1][2][1][2] = Cijkl[2][1][2][1] = Cijkl[1][2][2][1] = Cijkl[2][1][1][2] = C[material][44]\n",
    "    # Cijkl[0][2][0][2] = Cijkl[2][0][2][0] = Cijkl[0][2][2][0] = Cijkl[2][0][0][2] = C[material][55]\n",
    "    Cijkl[0][1][0][1] = Cijkl[1][0][1][0] = Cijkl[0][1][1][0] = Cijkl[1][0][0][1] = C[material][66]\n",
    "    \n",
    "C['delta'] = C['matrix']['ijkl'] - C['inclusion']['ijkl']\n",
    "C['phase'] = C['inclusion']['ijkl'] * h + C['matrix']['ijkl'] * (1-h)"
   ]
  },
  {
   "cell_type": "markdown",
   "metadata": {},
   "source": [
    "# elasticity"
   ]
  },
  {
   "cell_type": "markdown",
   "metadata": {},
   "source": [
    "Following the iterative FFT stress calculation method of\n",
    "\n",
    "> A PHASE-FIELD MODEL FOR EVOLVING MICROSTRUCTURES WITH STRONG ELASTIC INHOMOGENEITY  \n",
    "> S. Y. HU and L. Q. CHEN  \n",
    "> _Acta mater._ **49** (2001) 1879–1890\n",
    "\n",
    "let us expand about the properties of the inclusion.\n",
    "\n",
    "The interpolation of the elastic constants is\n",
    "$$\\begin{align*}\n",
    "C_{ijkl} &= h(\\varphi) C_{ijkl}^\\mathrm{inclusion} + \\left[1 - h(\\varphi)\\right]C_{ijkl}^\\mathrm{matrix} \\\\\n",
    "C_{ijkl} &= h(\\varphi) C_{ijkl}^I + \\left[1 - h(\\varphi)\\right]C_{ijkl}^M \\\\\n",
    "C_{ijkl} &= C_{ijkl}^I + \\left[1 - h(\\varphi)\\right]\\left(C_{ijkl}^M - C_{ijkl}^I\\right) \\\\\n",
    "C_{ijkl} &= C_{ijkl}^I + \\left[1 - h(\\varphi)\\right]\\Delta C_{ijkl}\n",
    "\\end{align*}$$\n",
    "\n",
    "The local misfit strain:\n",
    "$$\\epsilon_{ij}^\\circ = h(\\varphi) \\epsilon_{ij}^T$$\n",
    "\n",
    "The total strain:\n",
    "$$\\epsilon(\\vec{r}) = \\bar{\\epsilon}_{ij} + \\delta \\epsilon_{ij}(\\vec{r})$$\n",
    "where $\\bar{\\epsilon}_{ij}$ is the homogeneous strain and\n",
    "$$\\delta \\epsilon_{ij}(\\vec{r}) = \\frac{1}{2}\\left(\\partial_j u_i + \\partial_i u_j\\right)$$\n",
    "is the heterogeneous strain.\n",
    "\n",
    "The elastic stress:\n",
    "$$\\begin{align*}\n",
    "\\sigma_{ij}^\\mathrm{elastic} \n",
    "&= C_{ijkl} \\left[\\epsilon_{kl}(\\vec{r}) - \\epsilon_{kl}^\\circ(\\vec{r})\\right] \\\\\n",
    "&= \\left\\{C_{ijkl}^I + \\left[1 - h(\\varphi)\\right]\\Delta C_{ijkl}\\right\\}\n",
    "\\left[\\bar{\\epsilon}_{kl} + \\frac{1}{2}\\left(\\partial_l u_k + \\partial_k u_l\\right) - h(\\varphi) \\epsilon_{kl}^T\\right]\n",
    "\\end{align*}$$\n",
    "\n",
    "From mechanical equilibrium:\n",
    "$$\\begin{align*}\n",
    "0 &= \\partial_j \\sigma_{ij}^\\mathrm{elastic} \\\\\n",
    "&= \\partial_j\\left(\n",
    "\\left\\{C_{ijkl}^I + \\left[1 - h(\\varphi)\\right]\\Delta C_{ijkl}\\right\\}\n",
    "\\left[\\bar{\\epsilon}_{kl} + \\frac{1}{2}\\left(\\partial_l u_k + \\partial_k u_l\\right) - h(\\varphi) \\epsilon_{kl}^T\\right]\n",
    "\\right) \\\\\n",
    "&= -\\partial_j h(\\varphi) \\Delta C_{ijkl} \\left[\\bar{\\epsilon}_{kl} + \\frac{1}{2}\\left(\\partial_l u_k + \\partial_k u_l\\right) - h(\\varphi) \\epsilon_{kl}^T\\right]\n",
    "+ \\left\\{C_{ijkl}^I + \\left[1 - h(\\varphi)\\right]\\Delta C_{ijkl}\\right\\}\n",
    "\\partial_j\\left[\\frac{1}{2}\\left(\\partial_l u_k + \\partial_k u_l\\right) - h(\\varphi) \\epsilon_{kl}^T\\right] \\\\\n",
    "&= \\left[-\\partial_j h(\\varphi) \\Delta C_{ijkl} + \\left\\{C_{ijkl}^I + \\left[1 - h(\\varphi)\\right]\\Delta C_{ijkl}\\right\\}\\partial_j\\right] \\frac{1}{2}\\left(\\partial_l u_k + \\partial_k u_l\\right)\n",
    "-\\partial_j h(\\varphi) \\Delta C_{ijkl} \\left[\\bar{\\epsilon}_{kl} - h(\\varphi) \\epsilon_{kl}^T\\right] \n",
    "- \\left\\{C_{ijkl}^I + \\left[1 - h(\\varphi)\\right]\\Delta C_{ijkl}\\right\\} \\partial_j h(\\varphi) \\epsilon_{kl}^T \\\\\n",
    "&= \\left[C_{ijkl}^I \\partial_j \\partial_l + \\Delta C_{ijkl} \\partial_j \\left\\{\\left[1 - h(\\varphi)\\right]\\partial_l\\right\\}\\right] u_k\n",
    "- \\left[\\Delta C_{ijkl} \\bar{\\epsilon}_{kl} + C_{ijkl}^I \\epsilon_{kl}^T + \\Delta C_{ijkl} \\epsilon_{kl}^T\\right] \\partial_j h(\\varphi)\n",
    "+ 2 h(\\varphi) \\partial_j h(\\varphi) \\Delta C_{ijkl} \\epsilon_{kl}^T\n",
    "\\end{align*}$$\n",
    "or\n",
    "$$\n",
    "\\left[C_{ijkl}^I \\partial_j \\partial_l + \\Delta C_{ijkl} \\partial_j \\left\\{\\left[1 - h(\\varphi)\\right]\\partial_l\\right\\}\\right] u_k\n",
    "= \\left[\\Delta C_{ijkl} \\bar{\\epsilon}_{kl} + C_{ijkl}^I \\epsilon_{kl}^T + \\Delta C_{ijkl} \\epsilon_{kl}^T\\right] \\partial_j h(\\varphi)\n",
    "- \\Delta C_{ijkl} \\epsilon_{kl}^T \\partial_j \\left[h(\\varphi)\\right]^2\n",
    "$$"
   ]
  },
  {
   "cell_type": "markdown",
   "metadata": {},
   "source": [
    "$C_{ijkl}^I \\epsilon_{kl}^T$"
   ]
  },
  {
   "cell_type": "code",
   "execution_count": 22,
   "metadata": {
    "collapsed": false
   },
   "outputs": [],
   "source": [
    "CIeT = nmx.einsum('ijkl...,kl...->ij...', C['inclusion']['ijkl'], misfit)"
   ]
  },
  {
   "cell_type": "markdown",
   "metadata": {},
   "source": [
    "$\\Delta C_{ijkl} \\bar{\\epsilon}_{kl}$"
   ]
  },
  {
   "cell_type": "code",
   "execution_count": 23,
   "metadata": {
    "collapsed": false
   },
   "outputs": [],
   "source": [
    "dCebar = nmx.einsum('ijkl...,kl...->ij...', C['delta'], homostrain)"
   ]
  },
  {
   "cell_type": "markdown",
   "metadata": {},
   "source": [
    "$\\Delta C_{ijkl} \\epsilon_{kl}^T$"
   ]
  },
  {
   "cell_type": "code",
   "execution_count": 24,
   "metadata": {
    "collapsed": true
   },
   "outputs": [],
   "source": [
    "dCeT = nmx.einsum('ijkl...,kl...->ij...', C['delta'], misfit)"
   ]
  },
  {
   "cell_type": "markdown",
   "metadata": {},
   "source": [
    "To $0^\\mathrm{th}$ order\n",
    "$$\\begin{align*}\n",
    "C_{ijkl}^I \\partial_j \\partial_l u_k^0(\\vec{r})\n",
    "&= C_{ijkl}^I \\epsilon_{kl}^T \\partial_j h(\\varphi) \\\\\n",
    "-C_{ijkl}^I g_j g_l u_k^0(\\vec{g})\n",
    "&= i C_{ijkl}^I \\epsilon_{kl}^T g_j \\left\\{h(\\varphi)\\right\\}_g \\\\\n",
    "u_k^0(\\vec{g})\n",
    "&= -i G_{ik}(\\vec{g}) C_{ijkl}^I \\epsilon_{kl}^T g_j \\left\\{h(\\varphi)\\right\\}_g \\\\\n",
    "\\end{align*}$$"
   ]
  },
  {
   "cell_type": "code",
   "execution_count": 25,
   "metadata": {
    "collapsed": true
   },
   "outputs": [],
   "source": [
    "Gik_inv = nmx.einsum('ijkl,j...,l...->ik...', C['inclusion']['ijkl'], g.value, g.value)"
   ]
  },
  {
   "cell_type": "markdown",
   "metadata": {},
   "source": [
    "We can't invert the (zero) CW element, but we also don't care what it is"
   ]
  },
  {
   "cell_type": "code",
   "execution_count": 26,
   "metadata": {
    "collapsed": true
   },
   "outputs": [],
   "source": [
    "Gik_inv[..., 0] = nmx.eye(2,2)"
   ]
  },
  {
   "cell_type": "markdown",
   "metadata": {},
   "source": [
    "(Slow) inversion of tensor field. Opportunity to use [Wheeler's Riemann utilities](https://github.com/usnistgov/fipy/blob/riemann/fipy/tools/smallMatrixVectorOps.py)?"
   ]
  },
  {
   "cell_type": "code",
   "execution_count": 27,
   "metadata": {
    "collapsed": true
   },
   "outputs": [],
   "source": [
    "Gik = nmx.rollaxis(nmx.array(map(nmx.linalg.inv, nmx.rollaxis(Gik_inv, axis=2))), axis=0, start=3) "
   ]
  },
  {
   "cell_type": "code",
   "execution_count": 28,
   "metadata": {
    "collapsed": false
   },
   "outputs": [],
   "source": [
    "def calc_h_g(h):\n",
    "    return fftpack.fftn(h.value.reshape((mesh.nx, mesh.nx))).reshape(-1)"
   ]
  },
  {
   "cell_type": "code",
   "execution_count": 29,
   "metadata": {
    "collapsed": true
   },
   "outputs": [],
   "source": [
    "def calc_h2_g(h):\n",
    "    return fftpack.fftn((h**2).value.reshape((mesh.nx, mesh.nx))).reshape(-1)"
   ]
  },
  {
   "cell_type": "code",
   "execution_count": 30,
   "metadata": {
    "collapsed": true
   },
   "outputs": [],
   "source": [
    "def zerothorder(h_g):\n",
    "    return -1j * nmx.einsum('ik...,j...,ij...->k...', Gik, g, CIeT) * h_g"
   ]
  },
  {
   "cell_type": "markdown",
   "metadata": {},
   "source": [
    "To $n^\\mathrm{th}$ order\n",
    "$$\\begin{align*}\n",
    "C_{ijkl}^I \\partial_j \\partial_l u_k^n(\\vec{r})\n",
    "&= \\left[\\Delta C_{ijkl} \\bar{\\epsilon}_{kl} + C_{ijkl}^I \\epsilon_{kl}^T + \\Delta C_{ijkl} \\epsilon_{kl}^T\\right] \\partial_j h(\\varphi)\n",
    "- \\Delta C_{ijkl} \\epsilon_{kl}^T \\partial_j \\left[h(\\varphi)\\right]^2\n",
    "- \\Delta C_{ijkl} \\partial_j \\left\\{\\left[1 - h(\\varphi)\\right]\\partial_l\\right\\} u_k^{n-1}(\\vec{r})\n",
    "\\\\\n",
    "-C_{ijkl}^I g_j g_l u_k^n(\\vec{g})\n",
    "&= i\\left[\\Delta C_{ijkl} \\bar{\\epsilon}_{kl} + C_{ijkl}^I \\epsilon_{kl}^T + \\Delta C_{ijkl} \\epsilon_{kl}^T\\right] g_j \\left\\{h(\\varphi)\\right\\}_g\n",
    "- i g_j \\Delta C_{ijkl} \\epsilon_{kl}^T  \\left\\{\\left[h(\\varphi)\\right]^2\\right\\}_g\n",
    "- i g_j \\Delta C_{ijkl} \\left\\{\\left[1 - h(\\varphi)\\right]\\partial_l u_k^{n-1}(\\vec{r})\\right\\}_g\n",
    "\\\\\n",
    "u_k^n(\\vec{g})\n",
    "&= -i G_{ik}(\\vec{g}) g_j \\left(\\left[\\Delta C_{ijkl} \\bar{\\epsilon}_{kl} + C_{ijkl}^I \\epsilon_{kl}^T + \\Delta C_{ijkl} \\epsilon_{kl}^T\\right] \\left\\{h(\\varphi)\\right\\}_g\n",
    "- \\Delta C_{ijkl} \\epsilon_{kl}^T  \\left\\{\\left[h(\\varphi)\\right]^2\\right\\}_g\n",
    "- \\Delta C_{ijkl} \\left\\{\\left[1 - h(\\varphi)\\right]\\partial_l u_k^{n-1}(\\vec{r})\\right\\}_g\\right)\n",
    "\\end{align*}$$"
   ]
  },
  {
   "cell_type": "code",
   "execution_count": 58,
   "metadata": {
    "collapsed": true
   },
   "outputs": [],
   "source": [
    "def nthorder(u_g, h, h_g, h2_g):\n",
    "    dudr = fftpack.ifftn(1j * nmx.einsum('k...,l...->kl...', u_g, g), axes=(-2, -1)).reshape(2, 2, -1)\n",
    "    hdudr_g = fftpack.fftn(((1-h) * dudr).value.reshape((2, 2, mesh.nx, mesh.nx))).reshape(2, 2, -1)\n",
    "    previous = nmx.einsum('ijkl...,kl...->ij...', C['delta'], hdudr_g)\n",
    "\n",
    "    return -1j * nmx.einsum('ik...,j...,ij...->k...', Gik, g, ((dCebar + CIeT + dCeT)[..., nmx.newaxis] * h_g \n",
    "                                                               - dCeT[..., nmx.newaxis] * h2_g \n",
    "                                                               - previous))"
   ]
  },
  {
   "cell_type": "markdown",
   "metadata": {},
   "source": [
    "HC p. 1882, Eq. (18):\n",
    "> $\\delta \\epsilon_{ij}(\\vec{r}) \n",
    "= \\frac{1}{(2\\pi)^3}\\int \\frac{i}{2}\\left[\\nu_i(\\vec{g})g_j + \\nu_j(\\vec{g})g_i\\right]\n",
    "e^{i\\vec{g}\\cdot\\vec{r}}\\,d^3\\vec{g}$"
   ]
  },
  {
   "cell_type": "code",
   "execution_count": 32,
   "metadata": {
    "collapsed": false
   },
   "outputs": [],
   "source": [
    "def calc_heterostrain(u_g):\n",
    "    strain_g = 0.5j * (nmx.einsum('i...,j...->ij...', u_g, g) + nmx.einsum('j...,i...->ij...', u_g, g))\n",
    "    return fftpack.ifftn(strain_g.reshape((2, 2, mesh.nx, mesh.nx)), axes=(-2, -1)).reshape((2, 2, -1)).real"
   ]
  },
  {
   "cell_type": "markdown",
   "metadata": {},
   "source": [
    "The elastic stress:\n",
    "$$\\begin{align*}\n",
    "\\sigma_{ij}^\\mathrm{elastic} \n",
    "&= C_{ijkl} \\left[\\epsilon_{kl}(\\vec{r}) - \\epsilon_{kl}^\\circ(\\vec{r})\\right] \\\\\n",
    "&= \\left\\{C_{ijkl}^I + \\left[1 - h(\\varphi)\\right]\\Delta C_{ijkl}\\right\\}\n",
    "\\left[\\bar{\\epsilon}_{kl} + \\frac{1}{2}\\left(\\partial_l u_k + \\partial_k u_l\\right) - h(\\varphi) \\epsilon_{kl}^T\\right]\n",
    "\\end{align*}$$"
   ]
  },
  {
   "cell_type": "code",
   "execution_count": 33,
   "metadata": {
    "collapsed": false
   },
   "outputs": [],
   "source": [
    "def calc_elasticstrain(heterostrain):\n",
    "    return homostrain[..., nmx.newaxis] + heterostrain - misfit[..., nmx.newaxis] * h"
   ]
  },
  {
   "cell_type": "code",
   "execution_count": 34,
   "metadata": {
    "collapsed": true
   },
   "outputs": [],
   "source": [
    "def calc_elasticstress(elasticstrain):\n",
    "    return nmx.einsum('ijkl...,kl...->ij...', C['phase'], elasticstrain)"
   ]
  },
  {
   "cell_type": "code",
   "execution_count": 35,
   "metadata": {
    "collapsed": true
   },
   "outputs": [],
   "source": [
    "def calc_strainenergy(elasticstrain):\n",
    "    return 0.5 * nmx.einsum('ijkl...,ij...,kl...->...', C['phase'], elasticstrain, elasticstrain)"
   ]
  },
  {
   "cell_type": "markdown",
   "metadata": {},
   "source": [
    "## phase evolution"
   ]
  },
  {
   "cell_type": "code",
   "execution_count": 36,
   "metadata": {
    "collapsed": true
   },
   "outputs": [],
   "source": [
    "phase.setValue(1., where=(mesh.x / 0.155e-6)**2 + (mesh.y / 0.042e-6)**2 <= 1.)"
   ]
  },
  {
   "cell_type": "code",
   "execution_count": 37,
   "metadata": {
    "collapsed": false
   },
   "outputs": [
    {
     "data": {
      "image/png": "[encoded data removed]",
      "text/plain": [
       "<fipy.viewers.matplotlibViewer.matplotlib2DGridViewer.Matplotlib2DGridViewer at 0x10e20a710>"
      ]
     },
     "execution_count": 37,
     "metadata": {},
     "output_type": "execute_result"
    },
    {
     "data": {
      "image/png": "[encoded data removed]",
      "text/plain": [
       "<matplotlib.figure.Figure at 0x10e153fd0>"
      ]
     },
     "metadata": {},
     "output_type": "display_data"
    }
   ],
   "source": [
    "fp.Viewer(vars=phase)"
   ]
  },
  {
   "cell_type": "markdown",
   "metadata": {},
   "source": [
    "> The total free energy can be written\n",
    "$$\\mathcal{F} = \\int \\left[f_\\mathrm{elastic} + \\frac{\\kappa}{2}|\\nabla \\varphi|^2 + h_0 f(\\varphi)\\right] dV$$\n",
    "We use a simple interpolation fo the elastic constants\n",
    "$$C_{ijkl} = h(\\varphi) C_{ijkl}^\\mathrm{potato}$$\n",
    "where $h(\\varphi)$ is a smooth interpolation function,\n",
    "$$h(\\varphi) = \\varphi^3\\left[6\\varphi^2 - 15\\varphi + 10\\right]$$\n",
    "that interpolates between $h(\\varphi=0) = 0$ and $h(\\varphi=1) = 1$."
   ]
  },
  {
   "cell_type": "markdown",
   "metadata": {},
   "source": [
    "> Hint: Find time-evolution equations for $\\varphi$ that monotonically drive the total energy to a minimum while preserving the volume. One way to to this is to set up a Cahn-Hilliard equation for $\\varphi$."
   ]
  },
  {
   "cell_type": "markdown",
   "metadata": {},
   "source": [
    "Our Cahn-Hilliard evolution equation is given by\n",
    "$$\\frac{\\partial \\varphi}{\\partial t} = \\nabla\\cdot\\left(M_\\varphi \\nabla\\frac{\\delta \\mathcal{F}}{\\delta \\varphi}\\right)$$\n",
    "where\n",
    "$$\\begin{align*}\n",
    "\\frac{\\delta \\mathcal{F}}{\\delta \\varphi} \n",
    "&= \\frac{\\partial f_\\mathrm{elastic}}{\\partial\\varphi} - \\kappa \\nabla^2 \\varphi + h_0 \\frac{\\partial f(\\varphi)}{\\partial\\varphi} \\\\\n",
    "&= \\frac{\\partial f_\\mathrm{elastic}}{\\partial\\varphi} - \\kappa \\nabla^2 \\varphi + h_0 \\frac{\\partial}{\\partial\\varphi}\\left[\\varphi^2\\left(\\varphi - 1\\right)^2\\right] \\\\\n",
    "&= \\frac{\\partial f_\\mathrm{elastic}}{\\partial\\varphi} - \\kappa \\nabla^2 \\varphi + 2 h_0 \\varphi\\left(\\varphi - 1\\right)\\left(2\\varphi - 1\\right)\n",
    "\\end{align*}$$\n",
    "such that\n",
    "$$\n",
    "\\begin{align*}\n",
    "\\frac{\\partial \\varphi}{\\partial t} \n",
    "&= \\nabla\\cdot\\left(M_\\varphi \\left\\{\n",
    "\\nabla \\frac{\\partial f_\\mathrm{elastic}}{\\partial\\varphi} + 2 h_0 \\left[1 + 6\\varphi\\left(\\varphi - 1\\right)\\right]\\nabla \\varphi\n",
    "- \\kappa \\nabla^3 \\varphi\\right\\}\\right) \\\\\n",
    "\\frac{1}{M_\\varphi}\\frac{\\partial \\varphi}{\\partial t} \n",
    "&= \\nabla^2 \\frac{\\partial f_\\mathrm{elastic}}{\\partial\\varphi}\n",
    "+ \\nabla\\cdot\\left\\{2 h_0 \\left[1 + 6\\varphi\\left(\\varphi - 1\\right)\\right]\\right\\}\\nabla \\varphi\n",
    "- \\kappa \\nabla^4 \\varphi\n",
    "\\end{align*}$$"
   ]
  },
  {
   "cell_type": "markdown",
   "metadata": {},
   "source": [
    "Let $M_\\mathrm{\\varphi} = 1$"
   ]
  },
  {
   "cell_type": "code",
   "execution_count": 38,
   "metadata": {
    "collapsed": true
   },
   "outputs": [],
   "source": [
    "Mphase = 1e-19"
   ]
  },
  {
   "cell_type": "markdown",
   "metadata": {},
   "source": [
    "$$\\begin{align*}\n",
    "f_\\mathrm{elastic} &= \\frac{1}{2} C_{ijkl} \\left(\\epsilon_{ij} - \\epsilon_{ij}^\\circ\\right)\\left(\\epsilon_{kl} - \\epsilon_{kl}^\\circ\\right) \\\\\n",
    "\\frac{\\partial f_\\mathrm{elastic}}{\\partial \\varphi} &= \\frac{1}{2} \\left[ \\frac{\\partial C_{ijkl}}{\\partial \\varphi} \\left(\\epsilon_{ij} - \\epsilon_{ij}^\\circ\\right)\\left(\\epsilon_{kl} - \\epsilon_{kl}^\\circ\\right) \n",
    "- C_{ijkl} \\frac{\\partial \\epsilon_{ij}^\\circ}{\\partial \\varphi}\\left(\\epsilon_{kl} - \\epsilon_{kl}^\\circ\\right)\n",
    "- C_{ijkl} \\left(\\epsilon_{ij} - \\epsilon_{ij}^\\circ\\right) \\frac{\\partial \\epsilon_{kl}^\\circ}{\\partial \\varphi}\\right] \\\\\n",
    "&= \\frac{1}{2} \\left[ -\\frac{\\partial h(\\varphi)}{\\partial \\varphi} \\Delta C_{ijkl} \\left(\\epsilon_{ij} - \\epsilon_{ij}^\\circ\\right)\\left(\\epsilon_{kl} - \\epsilon_{kl}^\\circ\\right) \n",
    "- \\frac{\\partial h(\\varphi)}{\\partial \\varphi} C_{ijkl} \\epsilon_{ij}^T \\left(\\epsilon_{kl} - \\epsilon_{kl}^\\circ\\right)\n",
    "- \\frac{\\partial h(\\varphi)}{\\partial \\varphi} C_{ijkl} \\left(\\epsilon_{ij} - \\epsilon_{ij}^\\circ\\right) \\epsilon_{kl}^T\\right] \\\\\n",
    "&= -\\frac{1}{2} \\frac{\\partial h(\\varphi)}{\\partial \\varphi} \\left[ \\Delta C_{ijkl} \\left(\\epsilon_{ij} - \\epsilon_{ij}^\\circ\\right)\\left(\\epsilon_{kl} - \\epsilon_{kl}^\\circ\\right) \n",
    "+ C_{ijkl} \\epsilon_{ij}^T \\left(\\epsilon_{kl} - \\epsilon_{kl}^\\circ\\right)\n",
    "+ C_{ijkl} \\left(\\epsilon_{ij} - \\epsilon_{ij}^\\circ\\right) \\epsilon_{kl}^T\\right] \\\\\n",
    "&= -15 \\varphi^2 \\left(\\varphi - 1\\right)^2 \\left[ \\Delta C_{ijkl} \\left(\\epsilon_{ij} - \\epsilon_{ij}^\\circ\\right)\\left(\\epsilon_{kl} - \\epsilon_{kl}^\\circ\\right) \n",
    "+ C_{ijkl} \\epsilon_{ij}^T \\left(\\epsilon_{kl} - \\epsilon_{kl}^\\circ\\right)\n",
    "+ C_{ijkl} \\left(\\epsilon_{ij} - \\epsilon_{ij}^\\circ\\right) \\epsilon_{kl}^T\\right] \\\\\n",
    "\\end{align*}$$"
   ]
  },
  {
   "cell_type": "markdown",
   "metadata": {},
   "source": [
    "$$\\begin{align*}\n",
    "\\nabla^2\\frac{\\partial f_\\mathrm{elastic}}{\\partial \\varphi} \n",
    "&= \\nabla^2\\left\\{-15 \\varphi^2 \\left(\\varphi - 1\\right)^2 \\left[ \\Delta C_{ijkl} \\left(\\epsilon_{ij} - \\epsilon_{ij}^\\circ\\right)\\left(\\epsilon_{kl} - \\epsilon_{kl}^\\circ\\right) \n",
    "+ C_{ijkl} \\epsilon_{ij}^T \\left(\\epsilon_{kl} - \\epsilon_{kl}^\\circ\\right)\n",
    "+ C_{ijkl} \\left(\\epsilon_{ij} - \\epsilon_{ij}^\\circ\\right) \\epsilon_{kl}^T\\right]\\right\\} \\\\\n",
    "&= -30 \\varphi \\left(\\varphi - 1\\right) \\left(2\\varphi - 1\\right) \\nabla^2 \\varphi \\left[ \\Delta C_{ijkl} \\left(\\epsilon_{ij} - \\epsilon_{ij}^\\circ\\right)\\left(\\epsilon_{kl} - \\epsilon_{kl}^\\circ\\right) \n",
    "+ C_{ijkl} \\epsilon_{ij}^T \\left(\\epsilon_{kl} - \\epsilon_{kl}^\\circ\\right)\n",
    "+ C_{ijkl} \\left(\\epsilon_{ij} - \\epsilon_{ij}^\\circ\\right) \\epsilon_{kl}^T\\right] \\\\\n",
    "&\\qquad {}-15 \\varphi^2 \\left(\\varphi - 1\\right)^2 \\left[\n",
    "\\Delta C_{ijkl}\\left(\\nabla^2 \\epsilon_{ij} - \\epsilon_{ij}^T \\partial_\\varphi h(\\varphi) \\nabla^2 \\varphi\\right)\n",
    "\\left(\\epsilon_{kl} - \\epsilon_{kl}^\\circ\\right) \n",
    "+ \\Delta C_{ijkl}\\left(\\epsilon_{ij} - \\epsilon_{ij}^\\circ\\right)\\left(\\nabla^2 \\epsilon_{kl} - \\epsilon_{kl}^T \\partial_\\varphi h(\\varphi) \\nabla^2 \\varphi\\right)\n",
    "+ \\ldots\n",
    "\\right] \\\\\n",
    "\\end{align*}$$\n",
    "\n",
    "Too much to figure out. Do explicitly."
   ]
  },
  {
   "cell_type": "code",
   "execution_count": 39,
   "metadata": {
    "collapsed": true
   },
   "outputs": [],
   "source": [
    "PHASE = phase.faceValue"
   ]
  },
  {
   "cell_type": "code",
   "execution_count": 40,
   "metadata": {
    "collapsed": false
   },
   "outputs": [],
   "source": [
    "def calc_dfeldphase(elasticstrain):\n",
    "    return -15 * phase**2 * (phase - 1)**2 * (nmx.einsum('ijkl...,ij...,kl...', C['delta'], elasticstrain, elasticstrain)\n",
    "                                              + nmx.einsum('ijkl...,ij...,kl...', C['phase'], misfit[...,nmx.newaxis], elasticstrain)\n",
    "                                               + nmx.einsum('ijkl...,ij...,kl...', C['phase'], elasticstrain, misfit[...,nmx.newaxis]))"
   ]
  },
  {
   "cell_type": "code",
   "execution_count": 41,
   "metadata": {
    "collapsed": true
   },
   "outputs": [],
   "source": [
    "dfeldphase = fp.CellVariable(mesh=mesh, name=r\"\\frac{\\partial f_\\mathrm{elastic}}{\\partial \\varphi}\")"
   ]
  },
  {
   "cell_type": "code",
   "execution_count": 42,
   "metadata": {
    "collapsed": false
   },
   "outputs": [],
   "source": [
    "phaseEq = (fp.TransientTerm(coeff=1./Mphase) \n",
    "           == dfeldphase.faceGrad.divergence\n",
    "           + fp.DiffusionTerm(coeff=2. * h0 * (1. + 6. * PHASE * (PHASE - 1.))) \n",
    "           - fp.DiffusionTerm(coeff=(1., kappa)))"
   ]
  },
  {
   "cell_type": "code",
   "execution_count": 59,
   "metadata": {
    "collapsed": true
   },
   "outputs": [],
   "source": [
    "phase.value = 0.05\n",
    "phase.setValue(1.05, where=(mesh.x / 0.155e-6)**2 + (mesh.y / 0.042e-6)**2 <= 1.)"
   ]
  },
  {
   "cell_type": "code",
   "execution_count": 55,
   "metadata": {
    "collapsed": false
   },
   "outputs": [
    {
     "data": {
      "image/png": "[encoded data removed]",
      "text/plain": [
       "<matplotlib.figure.Figure at 0x110f07450>"
      ]
     },
     "metadata": {},
     "output_type": "display_data"
    }
   ],
   "source": [
    "viewer = fp.Viewer(vars=phase) #, datamin=0., datamax=1.)"
   ]
  },
  {
   "cell_type": "code",
   "execution_count": 60,
   "metadata": {
    "collapsed": true
   },
   "outputs": [],
   "source": [
    "strainenergy = fp.CellVariable(mesh=mesh, name=r\"f_\\mathrm{elastic}\")"
   ]
  },
  {
   "cell_type": "code",
   "execution_count": 62,
   "metadata": {
    "collapsed": false
   },
   "outputs": [
    {
     "data": {
      "image/png": "[encoded data removed]"
     },
     "metadata": {},
     "output_type": "display_data"
    },
    {
     "name": "stdout",
     "output_type": "stream",
     "text": [
      "nan\n",
      "nan\n",
      "nan\n"
     ]
    },
    {
     "ename": "KeyboardInterrupt",
     "evalue": "",
     "output_type": "error",
     "traceback": [
      "\u001b[0;31m---------------------------------------------------------------------------\u001b[0m",
      "\u001b[0;31mKeyboardInterrupt\u001b[0m                         Traceback (most recent call last)",
      "\u001b[0;32m<ipython-input-62-609d3a5292f3>\u001b[0m in \u001b[0;36m<module>\u001b[0;34m()\u001b[0m\n\u001b[1;32m      8\u001b[0m         \u001b[0mu_g\u001b[0m \u001b[0;34m=\u001b[0m \u001b[0mzerothorder\u001b[0m\u001b[0;34m(\u001b[0m\u001b[0mh_g\u001b[0m\u001b[0;34m)\u001b[0m\u001b[0;34m\u001b[0m\u001b[0m\n\u001b[1;32m      9\u001b[0m         \u001b[0;32mfor\u001b[0m \u001b[0miteration\u001b[0m \u001b[0;32min\u001b[0m \u001b[0mrange\u001b[0m\u001b[0;34m(\u001b[0m\u001b[0;36m1\u001b[0m\u001b[0;34m,\u001b[0m\u001b[0;36m5\u001b[0m\u001b[0;34m)\u001b[0m\u001b[0;34m:\u001b[0m\u001b[0;34m\u001b[0m\u001b[0m\n\u001b[0;32m---> 10\u001b[0;31m             \u001b[0mu_g\u001b[0m \u001b[0;34m=\u001b[0m \u001b[0mnthorder\u001b[0m\u001b[0;34m(\u001b[0m\u001b[0mu_g\u001b[0m\u001b[0;34m,\u001b[0m \u001b[0mh\u001b[0m\u001b[0;34m,\u001b[0m \u001b[0mh_g\u001b[0m\u001b[0;34m,\u001b[0m \u001b[0mh2_g\u001b[0m\u001b[0;34m)\u001b[0m\u001b[0;34m\u001b[0m\u001b[0m\n\u001b[0m\u001b[1;32m     11\u001b[0m         \u001b[0mheterostrain\u001b[0m \u001b[0;34m=\u001b[0m \u001b[0mcalc_heterostrain\u001b[0m\u001b[0;34m(\u001b[0m\u001b[0mu_g\u001b[0m\u001b[0;34m)\u001b[0m\u001b[0;34m\u001b[0m\u001b[0m\n\u001b[1;32m     12\u001b[0m         \u001b[0melasticstrain\u001b[0m \u001b[0;34m=\u001b[0m \u001b[0mcalc_elasticstrain\u001b[0m\u001b[0;34m(\u001b[0m\u001b[0mheterostrain\u001b[0m\u001b[0;34m)\u001b[0m\u001b[0;34m\u001b[0m\u001b[0m\n",
      "\u001b[0;32m<ipython-input-58-c05df87b0051>\u001b[0m in \u001b[0;36mnthorder\u001b[0;34m(u_g, h, h_g, h2_g)\u001b[0m\n\u001b[1;32m      1\u001b[0m \u001b[0;32mdef\u001b[0m \u001b[0mnthorder\u001b[0m\u001b[0;34m(\u001b[0m\u001b[0mu_g\u001b[0m\u001b[0;34m,\u001b[0m \u001b[0mh\u001b[0m\u001b[0;34m,\u001b[0m \u001b[0mh_g\u001b[0m\u001b[0;34m,\u001b[0m \u001b[0mh2_g\u001b[0m\u001b[0;34m)\u001b[0m\u001b[0;34m:\u001b[0m\u001b[0;34m\u001b[0m\u001b[0m\n\u001b[1;32m      2\u001b[0m     \u001b[0mdudr\u001b[0m \u001b[0;34m=\u001b[0m \u001b[0mfftpack\u001b[0m\u001b[0;34m.\u001b[0m\u001b[0mifftn\u001b[0m\u001b[0;34m(\u001b[0m\u001b[0;36m1j\u001b[0m \u001b[0;34m*\u001b[0m \u001b[0mnmx\u001b[0m\u001b[0;34m.\u001b[0m\u001b[0meinsum\u001b[0m\u001b[0;34m(\u001b[0m\u001b[0;34m'k...,l...->kl...'\u001b[0m\u001b[0;34m,\u001b[0m \u001b[0mu_g\u001b[0m\u001b[0;34m,\u001b[0m \u001b[0mg\u001b[0m\u001b[0;34m)\u001b[0m\u001b[0;34m,\u001b[0m \u001b[0maxes\u001b[0m\u001b[0;34m=\u001b[0m\u001b[0;34m(\u001b[0m\u001b[0;34m-\u001b[0m\u001b[0;36m2\u001b[0m\u001b[0;34m,\u001b[0m \u001b[0;34m-\u001b[0m\u001b[0;36m1\u001b[0m\u001b[0;34m)\u001b[0m\u001b[0;34m)\u001b[0m\u001b[0;34m.\u001b[0m\u001b[0mreshape\u001b[0m\u001b[0;34m(\u001b[0m\u001b[0;36m2\u001b[0m\u001b[0;34m,\u001b[0m \u001b[0;36m2\u001b[0m\u001b[0;34m,\u001b[0m \u001b[0;34m-\u001b[0m\u001b[0;36m1\u001b[0m\u001b[0;34m)\u001b[0m\u001b[0;34m\u001b[0m\u001b[0m\n\u001b[0;32m----> 3\u001b[0;31m     \u001b[0mhdudr_g\u001b[0m \u001b[0;34m=\u001b[0m \u001b[0mfftpack\u001b[0m\u001b[0;34m.\u001b[0m\u001b[0mfftn\u001b[0m\u001b[0;34m(\u001b[0m\u001b[0;34m(\u001b[0m\u001b[0;34m(\u001b[0m\u001b[0;36m1\u001b[0m\u001b[0;34m-\u001b[0m\u001b[0mh\u001b[0m\u001b[0;34m)\u001b[0m \u001b[0;34m*\u001b[0m \u001b[0mdudr\u001b[0m\u001b[0;34m)\u001b[0m\u001b[0;34m.\u001b[0m\u001b[0mvalue\u001b[0m\u001b[0;34m.\u001b[0m\u001b[0mreshape\u001b[0m\u001b[0;34m(\u001b[0m\u001b[0;34m(\u001b[0m\u001b[0;36m2\u001b[0m\u001b[0;34m,\u001b[0m \u001b[0;36m2\u001b[0m\u001b[0;34m,\u001b[0m \u001b[0mmesh\u001b[0m\u001b[0;34m.\u001b[0m\u001b[0mnx\u001b[0m\u001b[0;34m,\u001b[0m \u001b[0mmesh\u001b[0m\u001b[0;34m.\u001b[0m\u001b[0mnx\u001b[0m\u001b[0;34m)\u001b[0m\u001b[0;34m)\u001b[0m\u001b[0;34m)\u001b[0m\u001b[0;34m.\u001b[0m\u001b[0mreshape\u001b[0m\u001b[0;34m(\u001b[0m\u001b[0;36m2\u001b[0m\u001b[0;34m,\u001b[0m \u001b[0;36m2\u001b[0m\u001b[0;34m,\u001b[0m \u001b[0;34m-\u001b[0m\u001b[0;36m1\u001b[0m\u001b[0;34m)\u001b[0m\u001b[0;34m\u001b[0m\u001b[0m\n\u001b[0m\u001b[1;32m      4\u001b[0m     \u001b[0mprevious\u001b[0m \u001b[0;34m=\u001b[0m \u001b[0mnmx\u001b[0m\u001b[0;34m.\u001b[0m\u001b[0meinsum\u001b[0m\u001b[0;34m(\u001b[0m\u001b[0;34m'ijkl...,kl...->ij...'\u001b[0m\u001b[0;34m,\u001b[0m \u001b[0mC\u001b[0m\u001b[0;34m[\u001b[0m\u001b[0;34m'delta'\u001b[0m\u001b[0;34m]\u001b[0m\u001b[0;34m,\u001b[0m \u001b[0mhdudr_g\u001b[0m\u001b[0;34m)\u001b[0m\u001b[0;34m\u001b[0m\u001b[0m\n\u001b[1;32m      5\u001b[0m \u001b[0;34m\u001b[0m\u001b[0m\n",
      "\u001b[0;32m/Users/guyer/anaconda/envs/parallel/lib/python2.7/site-packages/scipy/fftpack/basic.pyc\u001b[0m in \u001b[0;36mfftn\u001b[0;34m(x, shape, axes, overwrite_x)\u001b[0m\n\u001b[1;32m    589\u001b[0m \u001b[0;34m\u001b[0m\u001b[0m\n\u001b[1;32m    590\u001b[0m     \"\"\"\n\u001b[0;32m--> 591\u001b[0;31m     \u001b[0;32mreturn\u001b[0m \u001b[0m_raw_fftn_dispatch\u001b[0m\u001b[0;34m(\u001b[0m\u001b[0mx\u001b[0m\u001b[0;34m,\u001b[0m \u001b[0mshape\u001b[0m\u001b[0;34m,\u001b[0m \u001b[0maxes\u001b[0m\u001b[0;34m,\u001b[0m \u001b[0moverwrite_x\u001b[0m\u001b[0;34m,\u001b[0m \u001b[0;36m1\u001b[0m\u001b[0;34m)\u001b[0m\u001b[0;34m\u001b[0m\u001b[0m\n\u001b[0m\u001b[1;32m    592\u001b[0m \u001b[0;34m\u001b[0m\u001b[0m\n\u001b[1;32m    593\u001b[0m \u001b[0;34m\u001b[0m\u001b[0m\n",
      "\u001b[0;32m/Users/guyer/anaconda/envs/parallel/lib/python2.7/site-packages/scipy/fftpack/basic.pyc\u001b[0m in \u001b[0;36m_raw_fftn_dispatch\u001b[0;34m(x, shape, axes, overwrite_x, direction)\u001b[0m\n\u001b[1;32m    604\u001b[0m \u001b[0;34m\u001b[0m\u001b[0m\n\u001b[1;32m    605\u001b[0m     \u001b[0moverwrite_x\u001b[0m \u001b[0;34m=\u001b[0m \u001b[0moverwrite_x\u001b[0m \u001b[0;32mor\u001b[0m \u001b[0m_datacopied\u001b[0m\u001b[0;34m(\u001b[0m\u001b[0mtmp\u001b[0m\u001b[0;34m,\u001b[0m \u001b[0mx\u001b[0m\u001b[0;34m)\u001b[0m\u001b[0;34m\u001b[0m\u001b[0m\n\u001b[0;32m--> 606\u001b[0;31m     \u001b[0;32mreturn\u001b[0m \u001b[0m_raw_fftnd\u001b[0m\u001b[0;34m(\u001b[0m\u001b[0mtmp\u001b[0m\u001b[0;34m,\u001b[0m\u001b[0mshape\u001b[0m\u001b[0;34m,\u001b[0m\u001b[0maxes\u001b[0m\u001b[0;34m,\u001b[0m\u001b[0mdirection\u001b[0m\u001b[0;34m,\u001b[0m\u001b[0moverwrite_x\u001b[0m\u001b[0;34m,\u001b[0m\u001b[0mwork_function\u001b[0m\u001b[0;34m)\u001b[0m\u001b[0;34m\u001b[0m\u001b[0m\n\u001b[0m\u001b[1;32m    607\u001b[0m \u001b[0;34m\u001b[0m\u001b[0m\n\u001b[1;32m    608\u001b[0m \u001b[0;34m\u001b[0m\u001b[0m\n",
      "\u001b[0;32m/Users/guyer/anaconda/envs/parallel/lib/python2.7/site-packages/scipy/fftpack/basic.pyc\u001b[0m in \u001b[0;36m_raw_fftnd\u001b[0;34m(x, s, axes, direction, overwrite_x, work_function)\u001b[0m\n\u001b[1;32m    509\u001b[0m             \u001b[0mx\u001b[0m\u001b[0;34m,\u001b[0m \u001b[0mcopy_made\u001b[0m \u001b[0;34m=\u001b[0m \u001b[0m_fix_shape\u001b[0m\u001b[0;34m(\u001b[0m\u001b[0mx\u001b[0m\u001b[0;34m,\u001b[0m \u001b[0ms\u001b[0m\u001b[0;34m[\u001b[0m\u001b[0mi\u001b[0m\u001b[0;34m]\u001b[0m\u001b[0;34m,\u001b[0m \u001b[0mi\u001b[0m\u001b[0;34m)\u001b[0m\u001b[0;34m\u001b[0m\u001b[0m\n\u001b[1;32m    510\u001b[0m             \u001b[0moverwrite_x\u001b[0m \u001b[0;34m=\u001b[0m \u001b[0moverwrite_x\u001b[0m \u001b[0;32mor\u001b[0m \u001b[0mcopy_made\u001b[0m\u001b[0;34m\u001b[0m\u001b[0m\n\u001b[0;32m--> 511\u001b[0;31m         \u001b[0;32mreturn\u001b[0m \u001b[0mwork_function\u001b[0m\u001b[0;34m(\u001b[0m\u001b[0mx\u001b[0m\u001b[0;34m,\u001b[0m\u001b[0ms\u001b[0m\u001b[0;34m,\u001b[0m\u001b[0mdirection\u001b[0m\u001b[0;34m,\u001b[0m\u001b[0moverwrite_x\u001b[0m\u001b[0;34m=\u001b[0m\u001b[0moverwrite_x\u001b[0m\u001b[0;34m)\u001b[0m\u001b[0;34m\u001b[0m\u001b[0m\n\u001b[0m\u001b[1;32m    512\u001b[0m \u001b[0;34m\u001b[0m\u001b[0m\n\u001b[1;32m    513\u001b[0m     \u001b[0;31m# We ordered axes, because the code below to push axes at the end of the\u001b[0m\u001b[0;34m\u001b[0m\u001b[0;34m\u001b[0m\u001b[0m\n",
      "\u001b[0;31mKeyboardInterrupt\u001b[0m: "
     ]
    },
    {
     "data": {
      "text/plain": [
       "<matplotlib.figure.Figure at 0x10e2d0c10>"
      ]
     },
     "metadata": {},
     "output_type": "display_data"
    }
   ],
   "source": [
    "for step in xrange(1000000):\n",
    "    print phase.cellVolumeAverage\n",
    "    \n",
    "    phase.updateOld()\n",
    "    for sweep in range(1):\n",
    "        h_g = calc_h_g(h)\n",
    "        h2_g = calc_h2_g(h)\n",
    "        u_g = zerothorder(h_g)\n",
    "        for iteration in range(1,5):\n",
    "            u_g = nthorder(u_g, h, h_g, h2_g)\n",
    "        heterostrain = calc_heterostrain(u_g)\n",
    "        elasticstrain = calc_elasticstrain(heterostrain)\n",
    "        elasticstress = calc_elasticstress(elasticstrain)\n",
    "        dfeldphase.value = calc_dfeldphase(elasticstrain)\n",
    "        \n",
    "        res = phaseEq.sweep(var=phase, dt=1.e-6)\n",
    "        \n",
    "    strainenergy.value = calc_strainenergy(elasticstrain)\n",
    "    if step % 10 == 0:\n",
    "        viewer.plot()\n",
    "        print strainenergy.cellVolumeAverage"
   ]
  },
  {
   "cell_type": "code",
   "execution_count": null,
   "metadata": {
    "collapsed": true
   },
   "outputs": [],
   "source": []
  }
 ],
 "metadata": {
  "kernelspec": {
   "display_name": "Python 2",
   "language": "python",
   "name": "python2"
  },
  "language_info": {
   "codemirror_mode": {
    "name": "ipython",
    "version": 2
   },
   "file_extension": ".py",
   "mimetype": "text/x-python",
   "name": "python",
   "nbconvert_exporter": "python",
   "pygments_lexer": "ipython2",
   "version": "2.7.11"
  }
 },
 "nbformat": 4,
 "nbformat_minor": 0
}
