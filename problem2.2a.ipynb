{
 "cells": [
  {
   "cell_type": "markdown",
   "metadata": {},
   "source": [
    "# Problem 2.2 (a)\n",
    "\n",
    "(Potato in space) What is the equilibrium shape of a $0.0042\\,\\mathrm{\\mu m}^3$ volume of $\\mathrm{Al_2SiO_5}$ in free space (stress-free boundaries)? Take the surface energy, $\\gamma$, to be equal to $200\\,\\mathrm{mJ/m^2}$. The crystalline axes a, b, and c are aligned with the x, y, and z-axes of a Cartesian lab coordinate system."
   ]
  },
  {
   "cell_type": "markdown",
   "metadata": {},
   "source": [
    "Iterative FFT stress calculation method of\n",
    "\n",
    "> A PHASE-FIELD MODEL FOR EVOLVING MICROSTRUCTURES WITH STRONG ELASTIC INHOMOGENEITY  \n",
    "> S. Y. HU and L. Q. CHEN  \n",
    "> _Acta mater._ **49** (2001) 1879–1890"
   ]
  },
  {
   "cell_type": "code",
   "execution_count": 1,
   "metadata": {
    "collapsed": false
   },
   "outputs": [],
   "source": [
    "%matplotlib inline"
   ]
  },
  {
   "cell_type": "code",
   "execution_count": 2,
   "metadata": {
    "collapsed": true
   },
   "outputs": [],
   "source": [
    "import fipy as fp"
   ]
  },
  {
   "cell_type": "code",
   "execution_count": 3,
   "metadata": {
    "collapsed": true
   },
   "outputs": [],
   "source": [
    "from fipy import numerix as nmx"
   ]
  },
  {
   "cell_type": "markdown",
   "metadata": {},
   "source": [
    "The interface width W between approximately $\\varphi = 0.1$ and $\\varphi = 0.9$ in this model is given by $W = 2\\sqrt{2\\kappa/h_0}$, while $\\gamma = \\sqrt{\\kappa h_0/18}$, $\\kappa = 1.5\\gamma W$, and $h_0 = 12\\gamma/W$ (ignoring modification of the phase field order parameter $\\varphi$ by the elastic interactions through the interface). Use $\\kappa = 3\\times 10^{-9}\\,\\mathrm{J/m}$, and $h_0 = 2.4\\times 10^{8}\\,\\mathrm{J/m^3}$."
   ]
  },
  {
   "cell_type": "code",
   "execution_count": 4,
   "metadata": {
    "collapsed": true
   },
   "outputs": [],
   "source": [
    "kappa = fp.Variable(\"3e-9 J/m\")"
   ]
  },
  {
   "cell_type": "code",
   "execution_count": 5,
   "metadata": {
    "collapsed": true
   },
   "outputs": [],
   "source": [
    "h0 = fp.Variable(\"2.4e8 J/m**3\")"
   ]
  },
  {
   "cell_type": "code",
   "execution_count": 6,
   "metadata": {
    "collapsed": true
   },
   "outputs": [],
   "source": [
    "W = 2*nmx.sqrt(2*kappa/h0)"
   ]
  },
  {
   "cell_type": "code",
   "execution_count": 7,
   "metadata": {
    "collapsed": false
   },
   "outputs": [
    {
     "name": "stdout",
     "output_type": "stream",
     "text": [
      "1e-08 m\n"
     ]
    }
   ],
   "source": [
    "print W"
   ]
  },
  {
   "cell_type": "code",
   "execution_count": 8,
   "metadata": {
    "collapsed": false
   },
   "outputs": [],
   "source": [
    "h0 = h0.value.value\n",
    "kappa = kappa.value.value"
   ]
  },
  {
   "cell_type": "code",
   "execution_count": 9,
   "metadata": {
    "collapsed": true
   },
   "outputs": [],
   "source": [
    "dx = 1e-8 / 5"
   ]
  },
  {
   "cell_type": "code",
   "execution_count": 10,
   "metadata": {
    "collapsed": true
   },
   "outputs": [],
   "source": [
    "Lx = .4e-6"
   ]
  },
  {
   "cell_type": "code",
   "execution_count": 11,
   "metadata": {
    "collapsed": false
   },
   "outputs": [
    {
     "name": "stdout",
     "output_type": "stream",
     "text": [
      "0.00422669875614 mum**3\n"
     ]
    }
   ],
   "source": [
    "print (4./3)*nmx.pi*fp.Variable(\"0.155 mum\")*fp.Variable(\"0.042 mum\")*fp.Variable(\"0.155 mum\")"
   ]
  },
  {
   "cell_type": "code",
   "execution_count": 12,
   "metadata": {
    "collapsed": false
   },
   "outputs": [],
   "source": [
    "mesh = fp.Grid2D(dx=dx, Lx=Lx, dy=dx, Ly=Lx) + [[-Lx/2.], [-Lx/2.]]"
   ]
  },
  {
   "cell_type": "code",
   "execution_count": 13,
   "metadata": {
    "collapsed": false
   },
   "outputs": [],
   "source": [
    "phase = fp.CellVariable(mesh=mesh, name=r\"$\\varphi$\", value=0.) #, hasOld=True)"
   ]
  },
  {
   "cell_type": "code",
   "execution_count": 14,
   "metadata": {
    "collapsed": true
   },
   "outputs": [],
   "source": [
    "phase.setValue(1., where=(mesh.x / 0.155e-6)**2 + (mesh.y / 0.042e-6)**2 <= 1.)"
   ]
  },
  {
   "cell_type": "code",
   "execution_count": 15,
   "metadata": {
    "collapsed": false
   },
   "outputs": [
    {
     "data": {
      "image/png": "[encoded data removed]",
      "text/plain": [
       "<fipy.viewers.matplotlibViewer.matplotlib2DGridViewer.Matplotlib2DGridViewer at 0x10e05b950>"
      ]
     },
     "execution_count": 15,
     "metadata": {},
     "output_type": "execute_result"
    },
    {
     "data": {
      "image/png": "[encoded data removed]",
      "text/plain": [
       "<matplotlib.figure.Figure at 0x10e06dbd0>"
      ]
     },
     "metadata": {},
     "output_type": "display_data"
    }
   ],
   "source": [
    "fp.Viewer(vars=phase)"
   ]
  },
  {
   "cell_type": "markdown",
   "metadata": {},
   "source": [
    "> The total free energy can be written\n",
    "$$\\mathcal{F} = \\int \\left[f_\\mathrm{elastic} + \\frac{\\kappa}{2}|\\nabla \\varphi|^2 + h_0 f(\\varphi)\\right] dV$$\n",
    "We use a simple interpolation fo the elastic constants\n",
    "$$C_{ijkl} = h(\\varphi) C_{ijkl}^\\mathrm{potato}$$\n",
    "where $h(\\varphi)$ is a smooth interpolation function,\n",
    "$$h(\\varphi) = \\varphi^3\\left[6\\varphi^2 - 15\\varphi + 10\\right]$$\n",
    "that interpolates between $h(\\varphi=0) = 0$ and $h(\\varphi=1) = 1$."
   ]
  },
  {
   "cell_type": "markdown",
   "metadata": {},
   "source": [
    "> Hint: Find time-evolution equations for $\\varphi$ that monotonically drive the total energy to a minimum while preserving the volume. One way to to this is to set up a Cahn-Hilliard equation for $\\varphi$."
   ]
  },
  {
   "cell_type": "markdown",
   "metadata": {},
   "source": [
    "Our Cahn-Hilliard evolution equation is given by\n",
    "$$\\frac{\\partial \\varphi}{\\partial t} = \\nabla\\cdot\\left(M_\\varphi \\nabla\\frac{\\delta \\mathcal{F}}{\\delta \\varphi}\\right)$$\n",
    "where\n",
    "$$\\begin{align*}\n",
    "\\frac{\\delta \\mathcal{F}}{\\delta \\varphi} \n",
    "&= \\frac{\\partial f_\\mathrm{elastic}}{\\partial\\varphi} - \\kappa \\nabla^2 \\varphi + h_0 \\frac{\\partial f(\\varphi)}{\\partial\\varphi} \\\\\n",
    "&= \\frac{\\partial f_\\mathrm{elastic}}{\\partial\\varphi} - \\kappa \\nabla^2 \\varphi + h_0 \\frac{\\partial}{\\partial\\varphi}\\left[\\varphi^2\\left(\\varphi - 1\\right)^2\\right] \\\\\n",
    "&= \\frac{\\partial f_\\mathrm{elastic}}{\\partial\\varphi} - \\kappa \\nabla^2 \\varphi + 2 h_0 \\varphi\\left(\\varphi - 1\\right)\\left(2\\varphi - 1\\right)\n",
    "\\end{align*}$$\n",
    "such that\n",
    "$$\n",
    "\\begin{align*}\n",
    "\\frac{\\partial \\varphi}{\\partial t} \n",
    "&= \\nabla\\cdot\\left(M_\\varphi \\left\\{\n",
    "\\nabla \\frac{\\partial f_\\mathrm{elastic}}{\\partial\\varphi} + 2 h_0 \\left[1 + 6\\varphi\\left(\\varphi - 1\\right)\\right]\\nabla \\varphi\n",
    "- \\kappa \\nabla^3 \\varphi\\right\\}\\right) \\\\\n",
    "\\frac{1}{M_\\varphi}\\frac{\\partial \\varphi}{\\partial t} \n",
    "&= \\nabla^2 \\frac{\\partial f_\\mathrm{elastic}}{\\partial\\varphi}\n",
    "+ \\nabla\\cdot\\left\\{2 h_0 \\left[1 + 6\\varphi\\left(\\varphi - 1\\right)\\right]\\right\\}\\nabla \\varphi\n",
    "- \\kappa \\nabla^4 \\varphi\n",
    "\\end{align*}$$"
   ]
  },
  {
   "cell_type": "markdown",
   "metadata": {},
   "source": [
    "Let $M_\\mathrm{\\varphi} = 1$"
   ]
  },
  {
   "cell_type": "code",
   "execution_count": 16,
   "metadata": {
    "collapsed": true
   },
   "outputs": [],
   "source": [
    "Mphase = 1."
   ]
  },
  {
   "cell_type": "markdown",
   "metadata": {},
   "source": [
    "Let's ignore the elastic energy for now\n",
    "$$\n",
    "\\begin{align*}\n",
    "\\frac{1}{M_\\varphi}\\frac{\\partial \\varphi}{\\partial t} \n",
    "&= \\nabla\\cdot\\left\\{2 h_0 \\left[1 + 6\\varphi\\left(\\varphi - 1\\right)\\right]\\right\\}\\nabla \\varphi\n",
    "- \\kappa \\nabla^4 \\varphi\n",
    "\\end{align*}$$"
   ]
  },
  {
   "cell_type": "code",
   "execution_count": 17,
   "metadata": {
    "collapsed": true
   },
   "outputs": [],
   "source": [
    "PHASE = phase.faceValue"
   ]
  },
  {
   "cell_type": "code",
   "execution_count": 18,
   "metadata": {
    "collapsed": false
   },
   "outputs": [],
   "source": [
    "phaseEq = (fp.TransientTerm(coeff=1./Mphase) \n",
    "           == fp.DiffusionTerm(coeff=2. * h0 * (1. + 6. * PHASE * (PHASE - 1.))) \n",
    "           - fp.DiffusionTerm(coeff=(1., kappa)))"
   ]
  },
  {
   "cell_type": "code",
   "execution_count": 27,
   "metadata": {
    "collapsed": true
   },
   "outputs": [],
   "source": [
    "phase.value = 0.\n",
    "phase.setValue(1., where=(mesh.x / 0.155e-6)**2 + (mesh.y / 0.042e-6)**2 <= 1.)"
   ]
  },
  {
   "cell_type": "code",
   "execution_count": 28,
   "metadata": {
    "collapsed": false
   },
   "outputs": [
    {
     "data": {
      "image/png": "[encoded data removed]",
      "text/plain": [
       "<matplotlib.figure.Figure at 0x10e204a90>"
      ]
     },
     "metadata": {},
     "output_type": "display_data"
    }
   ],
   "source": [
    "viewer = fp.Viewer(vars=phase, datamin=0., datamax=1.)"
   ]
  },
  {
   "cell_type": "code",
   "execution_count": null,
   "metadata": {
    "collapsed": false
   },
   "outputs": [
    {
     "data": {
      "image/png": "[encoded data removed]"
     },
     "metadata": {},
     "output_type": "display_data"
    },
    {
     "name": "stdout",
     "output_type": "stream",
     "text": [
      "0.12754728425\n",
      "0.127547284249\n",
      "0.127547284248\n",
      "0.127547284246\n",
      "0.127547284245\n",
      "0.127547284244\n",
      "0.127547284243\n"
     ]
    }
   ],
   "source": [
    "for step in xrange(1000000):\n",
    "    print phase.cellVolumeAverage\n",
    "    \n",
    "#    phase.updateOld()\n",
    "    for sweep in range(1):\n",
    "        res = phaseEq.sweep(var=phase, dt=1.e-25)\n",
    "    if step % 10 == 0:\n",
    "        viewer.plot()"
   ]
  },
  {
   "cell_type": "code",
   "execution_count": 97,
   "metadata": {
    "collapsed": false
   },
   "outputs": [
    {
     "name": "stdout",
     "output_type": "stream",
     "text": [
      "0.128020410652 0.128020410962\n"
     ]
    }
   ],
   "source": [
    "print min(phase), max(phase)"
   ]
  },
  {
   "cell_type": "code",
   "execution_count": null,
   "metadata": {
    "collapsed": true
   },
   "outputs": [],
   "source": []
  }
 ],
 "metadata": {
  "kernelspec": {
   "display_name": "Python 2",
   "language": "python",
   "name": "python2"
  },
  "language_info": {
   "codemirror_mode": {
    "name": "ipython",
    "version": 2
   },
   "file_extension": ".py",
   "mimetype": "text/x-python",
   "name": "python",
   "nbconvert_exporter": "python",
   "pygments_lexer": "ipython2",
   "version": "2.7.11"
  }
 },
 "nbformat": 4,
 "nbformat_minor": 0
}
