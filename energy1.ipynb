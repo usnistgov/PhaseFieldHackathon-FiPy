{
 "cells": [
  {
   "cell_type": "code",
   "execution_count": null,
   "metadata": {
    "collapsed": false
   },
   "outputs": [],
   "source": [
    "%matplotlib inline\n",
    "import numpy as np\n",
    "import matplotlib.pyplot as plt\n",
    "\n",
    "# Define lambda, phi, and u\n",
    "l = 10/0.6267\n",
    "a = np.linspace(-1.1,1.1,102)\n",
    "b = np.linspace(-0.5,0.5,50)\n",
    "\n",
    "p = np.zeros(len(a)*len(b))\n",
    "u = np.zeros(len(a)*len(b))\n",
    "z = np.zeros(len(a)*len(b))\n",
    "\n",
    "n=0\n",
    "for j in np.nditer(b):\n",
    "    for i in np.nditer(a):\n",
    "        p[n] = i\n",
    "        u[n] = j\n",
    "        z[n] = -0.5*i**2 + 0.25*i**4 + l*j*i*(1-2*i**2/3+i**4/5)\n",
    "        n+=1\n",
    "\n",
    "# Configure plot\n",
    "plt.rcParams['figure.figsize'] = (8.0, 4.0)\n",
    "plt.axis('equal')\n",
    "plt.xlabel(r'$\\phi$',fontsize=14)\n",
    "plt.ylabel(r'$u$',fontsize=14)\n",
    "\n",
    "# Plot contours\n",
    "ncontours=128\n",
    "plt.tricontourf(p,u,z, ncontours, cmap=plt.cm.get_cmap('coolwarm'))\n"
   ]
  },
  {
   "cell_type": "code",
   "execution_count": null,
   "metadata": {
    "collapsed": true
   },
   "outputs": [],
   "source": []
  }
 ],
 "metadata": {
  "kernelspec": {
   "display_name": "Python 2",
   "language": "python",
   "name": "python2"
  },
  "language_info": {
   "codemirror_mode": {
    "name": "ipython",
    "version": 2
   },
   "file_extension": ".py",
   "mimetype": "text/x-python",
   "name": "python",
   "nbconvert_exporter": "python",
   "pygments_lexer": "ipython2",
   "version": "2.7.11+"
  }
 },
 "nbformat": 4,
 "nbformat_minor": 0
}
